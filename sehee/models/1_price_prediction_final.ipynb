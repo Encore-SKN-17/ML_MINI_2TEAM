{
 "cells": [
  {
   "cell_type": "markdown",
   "metadata": {},
   "source": [
    "# 시금치 & 오이 가격 예측 모델 선정\n",
    "*XGBoost, LightGBM, RandomForest 모델을 튜닝하고, 이들을 결합한 앙상블 모델(VotingRegressor)과 성능을 비교하여 최종 최적 모델을 선정합니다.*"
   ]
  },
  {
   "cell_type": "code",
   "execution_count": 1,
   "metadata": {},
   "outputs": [],
   "source": [
    "import pandas as pd\n",
    "import numpy as np\n",
    "from sklearn.model_selection import train_test_split, GridSearchCV\n",
    "from sklearn.ensemble import RandomForestRegressor, VotingRegressor\n",
    "from xgboost import XGBRegressor\n",
    "from lightgbm import LGBMRegressor\n",
    "from sklearn.metrics import r2_score\n",
    "import warnings\n",
    "\n",
    "warnings.filterwarnings('ignore')"
   ]
  },
  {
   "cell_type": "markdown",
   "metadata": {},
   "source": [
    "## 1. 데이터 불러오기 및 전처리"
   ]
  },
  {
   "cell_type": "code",
   "execution_count": 4,
   "metadata": {},
   "outputs": [],
   "source": [
    "# 데이터 불러오기\n",
    "cold_df = pd.read_excel('../data/mon_cold.xlsx')\n",
    "wind_df = pd.read_excel('../data/mon_wind.xlsx')\n",
    "hot_df = pd.read_excel('../data/mon_hot.xlsx')\n",
    "price_df = pd.read_excel('../data/region_price.xlsx')\n",
    "weather_df = pd.read_csv('../data/region_weather.csv')\n",
    "\n",
    "# 데이터 변환 및 병합\n",
    "cold_df_melted = cold_df.melt(id_vars=['지역'], var_name='날짜', value_name='한파발생')\n",
    "wind_df_melted = wind_df.melt(id_vars=['지역'], var_name='날짜', value_name='태풍발생')\n",
    "hot_df_melted = hot_df.melt(id_vars=['지역'], var_name='날짜', value_name='폭염발생')\n",
    "price_df['날짜'] = pd.to_datetime(price_df['날짜'], errors='coerce').dt.strftime('%Y-%m')\n",
    "weather_df['날짜'] = pd.to_datetime(weather_df['날짜'], errors='coerce').dt.strftime('%Y-%m')\n",
    "merged_df = pd.merge(price_df, weather_df, on=['지역', '날짜'], how='left')\n",
    "merged_df = pd.merge(merged_df, cold_df_melted, on=['지역', '날짜'], how='left')\n",
    "merged_df = pd.merge(merged_df, wind_df_melted, on=['지역', '날짜'], how='left')\n",
    "merged_df = pd.merge(merged_df, hot_df_melted, on=['지역', '날짜'], how='left')\n",
    "merged_df.dropna(subset=['평균가격'], inplace=True)\n",
    "merged_df = merged_df[merged_df['평균가격'] > 0].copy()\n",
    "merged_df.fillna(0, inplace=True)\n",
    "\n",
    "# 특성 공학\n",
    "merged_df['날짜'] = pd.to_datetime(merged_df['날짜'])\n",
    "merged_df['연도'] = merged_df['날짜'].dt.year\n",
    "merged_df['월'] = merged_df['날짜'].dt.month"
   ]
  },
  {
   "cell_type": "markdown",
   "metadata": {},
   "source": [
    "## 2. 모델 학습, 튜닝 및 최종 비교"
   ]
  },
  {
   "cell_type": "code",
   "execution_count": 3,
   "metadata": {},
   "outputs": [
    {
     "name": "stdout",
     "output_type": "stream",
     "text": [
      "--- 시금치 모델 튜닝 및 평가 시작 ---\n",
      "RandomForest 모델 튜닝 중...\n",
      "RandomForest 최적 파라미터: {'max_depth': 10, 'n_estimators': 100}\n",
      "RandomForest R-squared: 0.6768\n",
      "XGBoost 모델 튜닝 중...\n",
      "XGBoost 최적 파라미터: {'learning_rate': 0.1, 'max_depth': 5, 'n_estimators': 100}\n",
      "XGBoost R-squared: 0.7044\n",
      "LightGBM 모델 튜닝 중...\n",
      "LightGBM 최적 파라미터: {'learning_rate': 0.1, 'max_depth': 7, 'n_estimators': 200}\n",
      "LightGBM R-squared: 0.6808\n",
      "앙상블(Voting) 모델 평가 중...\n",
      "Voting Ensemble R-squared: 0.7039\n",
      "--- 시금치 최종 결과 ---\n",
      "RandomForest: 0.6768\n",
      "XGBoost: 0.7044\n",
      "LightGBM: 0.6808\n",
      "VotingEnsemble: 0.7039\n",
      "=> 시금치의 최종 최적 모델은 XGBoost (R-squared: 0.7044) 입니다.\n",
      "--------------------------------------------------\n",
      "--- 오이 모델 튜닝 및 평가 시작 ---\n",
      "RandomForest 모델 튜닝 중...\n",
      "RandomForest 최적 파라미터: {'max_depth': 10, 'n_estimators': 100}\n",
      "RandomForest R-squared: 0.7926\n",
      "XGBoost 모델 튜닝 중...\n",
      "XGBoost 최적 파라미터: {'learning_rate': 0.1, 'max_depth': 5, 'n_estimators': 100}\n",
      "XGBoost R-squared: 0.8513\n",
      "LightGBM 모델 튜닝 중...\n",
      "LightGBM 최적 파라미터: {'learning_rate': 0.1, 'max_depth': 7, 'n_estimators': 200}\n",
      "LightGBM R-squared: 0.8608\n",
      "앙상블(Voting) 모델 평가 중...\n",
      "Voting Ensemble R-squared: 0.8512\n",
      "--- 오이 최종 결과 ---\n",
      "RandomForest: 0.7926\n",
      "XGBoost: 0.8513\n",
      "LightGBM: 0.8608\n",
      "VotingEnsemble: 0.8512\n",
      "=> 오이의 최종 최적 모델은 LightGBM (R-squared: 0.8608) 입니다.\n",
      "--------------------------------------------------\n"
     ]
    }
   ],
   "source": [
    "def find_best_model(df, vegetable_name):\n",
    "    # 데이터 분리\n",
    "    target_df = df[df['품목'] == vegetable_name].copy()\n",
    "    target_df['지역'] = target_df['지역'].astype('category').cat.codes\n",
    "\n",
    "    features = ['평균기온(°C)', '월합강수량(00~24h만)(mm)', '평균풍속(m/s)', '최심적설(cm)', '한파발생', '태풍발생', '폭염발생', '지역', '연도', '월']\n",
    "    target = '평균가격'\n",
    "\n",
    "    X = target_df[features]\n",
    "    y = target_df[target]\n",
    "    X_train, X_test, y_train, y_test = train_test_split(X, y, test_size=0.2, random_state=42)\n",
    "\n",
    "    # 모델 및 하이퍼파라미터 그리드 정의\n",
    "    rf = RandomForestRegressor(random_state=42)\n",
    "    xgb = XGBRegressor(random_state=42)\n",
    "    # LightGBM 경고를 숨기기 위해 verbose=-1 추가\n",
    "    lgbm = LGBMRegressor(random_state=42, verbose=-1)\n",
    "\n",
    "    param_grid_rf = {'n_estimators': [100, 200], 'max_depth': [5, 10]}\n",
    "    param_grid_xgb = {'n_estimators': [100, 200], 'max_depth': [5, 7], 'learning_rate': [0.05, 0.1]}\n",
    "    param_grid_lgbm = {'n_estimators': [100, 200], 'max_depth': [5, 7], 'learning_rate': [0.05, 0.1]}\n",
    "\n",
    "    models_and_params = [\n",
    "        ('RandomForest', rf, param_grid_rf),\n",
    "        ('XGBoost', xgb, param_grid_xgb),\n",
    "        ('LightGBM', lgbm, param_grid_lgbm)\n",
    "    ]\n",
    "\n",
    "    best_estimators = []\n",
    "    results = {}\n",
    "\n",
    "    print(f'--- {vegetable_name} 모델 튜닝 및 평가 시작 ---')\n",
    "\n",
    "    # 각 개별 모델 튜닝 및 평가\n",
    "    for name, model, params in models_and_params:\n",
    "        print(f'{name} 모델 튜닝 중...')\n",
    "        grid_search = GridSearchCV(estimator=model, param_grid=params, cv=3, n_jobs=-1, scoring='r2')\n",
    "        grid_search.fit(X_train, y_train)\n",
    "        best_model = grid_search.best_estimator_\n",
    "        y_pred = best_model.predict(X_test)\n",
    "        r2 = r2_score(y_test, y_pred)\n",
    "        results[name] = r2\n",
    "        best_estimators.append((name, best_model))\n",
    "        print(f'{name} 최적 파라미터: {grid_search.best_params_}')\n",
    "        print(f'{name} R-squared: {r2:.4f}')\n",
    "\n",
    "    # 앙상블 모델 (VotingRegressor) 생성 및 평가\n",
    "    print('앙상블(Voting) 모델 평가 중...')\n",
    "    voting_model = VotingRegressor(estimators=best_estimators)\n",
    "    voting_model.fit(X_train, y_train)\n",
    "    y_pred_voting = voting_model.predict(X_test)\n",
    "    r2_voting = r2_score(y_test, y_pred_voting)\n",
    "    results['VotingEnsemble'] = r2_voting\n",
    "    print(f'Voting Ensemble R-squared: {r2_voting:.4f}')\n",
    "\n",
    "    # 최종 결과 출력\n",
    "    best_overall_model = max(results, key=results.get)\n",
    "    print(f'--- {vegetable_name} 최종 결과 ---')\n",
    "    for name, score in results.items():\n",
    "        print(f'{name}: {score:.4f}')\n",
    "    print(f'=> {vegetable_name}의 최종 최적 모델은 {best_overall_model} (R-squared: {results[best_overall_model]:.4f}) 입니다.')\n",
    "    print('-'*50)\n",
    "\n",
    "# 시금치와 오이에 대해 함수 실행\n",
    "find_best_model(merged_df, '시금치')\n",
    "find_best_model(merged_df, '오이')"
   ]
  }
 ],
 "metadata": {
  "kernelspec": {
   "display_name": "ml_env",
   "language": "python",
   "name": "python3"
  },
  "language_info": {
   "codemirror_mode": {
    "name": "ipython",
    "version": 3
   },
   "file_extension": ".py",
   "mimetype": "text/x-python",
   "name": "python",
   "nbconvert_exporter": "python",
   "pygments_lexer": "ipython3",
   "version": "3.12.11"
  }
 },
 "nbformat": 4,
 "nbformat_minor": 4
}
