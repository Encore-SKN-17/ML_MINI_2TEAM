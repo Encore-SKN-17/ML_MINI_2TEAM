{
 "cells": [
  {
   "cell_type": "markdown",
   "metadata": {},
   "source": [
    "# 시금치 & 오이 가격 예측 모델 (수출입 데이터 포함)\n",
    "*기존 데이터에 수출입 중량 데이터를 추가하고, 다양한 모델과 하이퍼파라미터를 테스트하여 종합적인 평가 지표(MAE, MSE, RMSE, R2)를 통해 최적의 모델을 선정합니다.*"
   ]
  },
  {
   "cell_type": "code",
   "execution_count": 7,
   "metadata": {},
   "outputs": [],
   "source": [
    "import pandas as pd\n",
    "import numpy as np\n",
    "from sklearn.model_selection import train_test_split, GridSearchCV\n",
    "from sklearn.ensemble import RandomForestRegressor, VotingRegressor\n",
    "from xgboost import XGBRegressor\n",
    "from lightgbm import LGBMRegressor\n",
    "from sklearn.metrics import mean_absolute_error, mean_squared_error, r2_score\n",
    "import warnings\n",
    "\n",
    "warnings.filterwarnings('ignore')"
   ]
  },
  {
   "cell_type": "markdown",
   "metadata": {},
   "source": [
    "## 1. 데이터 불러오기 및 통합 전처리"
   ]
  },
  {
   "cell_type": "code",
   "execution_count": null,
   "metadata": {},
   "outputs": [
    {
     "name": "stdout",
     "output_type": "stream",
     "text": [
      "데이터 통합 및 전처리 완료. 최종 데이터셋 일부:\n",
      "        지역         날짜  품목          평균가격      총거래물량  평균기온(°C)  \\\n",
      "0      강원도 2021-01-01  감자  24245.289659  3012880.0 -3.435714   \n",
      "1      경기도 2021-01-01  감자  24006.188904   356360.0 -3.680000   \n",
      "2  제주특별자치도 2021-01-01  감자  37886.008230   330480.0  6.700000   \n",
      "3     경상남도 2021-01-01  감자  27559.604013   533300.0  1.192857   \n",
      "4     경상북도 2021-01-01  감자  24701.552614   462160.0 -1.421429   \n",
      "\n",
      "   월합강수량(00~24h만)(mm)  평균풍속(m/s)  최심적설(cm)  한파발생  태풍발생  폭염발생  수입중량  수출중량  \\\n",
      "0           10.221429   1.778571       4.9   1.0   0.0   0.0   0.0   0.0   \n",
      "1           18.460000   1.440000       9.4   1.0   0.0   0.0   0.0   0.0   \n",
      "2           84.225000   4.575000       9.2   0.0   0.0   0.0   0.0   0.0   \n",
      "3           17.678571   1.700000       0.0   1.0   0.0   0.0   0.0   0.0   \n",
      "4           12.728571   2.350000       0.9   1.0   0.0   0.0   0.0   0.0   \n",
      "\n",
      "     연도  월  \n",
      "0  2021  1  \n",
      "1  2021  1  \n",
      "2  2021  1  \n",
      "3  2021  1  \n",
      "4  2021  1  \n"
     ]
    }
   ],
   "source": [
    "# 데이터 불러오기\n",
    "cold_df = pd.read_excel('../data//mon_cold.xlsx')\n",
    "wind_df = pd.read_excel('../data//mon_wind.xlsx')\n",
    "hot_df = pd.read_excel('../data//mon_hot.xlsx')\n",
    "price_df = pd.read_excel('../data//region_price.xlsx')\n",
    "weather_df = pd.read_csv('../data//region_weather.csv')\n",
    "trade_df = pd.read_excel('../data/spinach_cucumber_df.xlsx')\n",
    "\n",
    "# 데이터 변환 (long format)\n",
    "cold_df_melted = cold_df.melt(id_vars=['지역'], var_name='날짜', value_name='한파발생')\n",
    "wind_df_melted = wind_df.melt(id_vars=['지역'], var_name='날짜', value_name='태풍발생')\n",
    "hot_df_melted = hot_df.melt(id_vars=['지역'], var_name='날짜', value_name='폭염발생')\n",
    "\n",
    "# 날짜 형식 통일 (YYYY-MM)\n",
    "for df in [price_df, weather_df, trade_df]:\n",
    "    df['날짜'] = pd.to_datetime(df['날짜'], errors='coerce').dt.strftime('%Y-%m')\n",
    "\n",
    "# 데이터 병합 (가격을 중심으로)\n",
    "merged_df = pd.merge(price_df, weather_df, on=['지역', '날짜'], how='left')\n",
    "merged_df = pd.merge(merged_df, cold_df_melted, on=['지역', '날짜'], how='left')\n",
    "merged_df = pd.merge(merged_df, wind_df_melted, on=['지역', '날짜'], how='left')\n",
    "merged_df = pd.merge(merged_df, hot_df_melted, on=['지역', '날짜'], how='left')\n",
    "merged_df = pd.merge(merged_df, trade_df, on=['품목', '날짜'], how='left')\n",
    "\n",
    "# 데이터 정제\n",
    "merged_df.dropna(subset=['평균가격'], inplace=True)\n",
    "merged_df = merged_df[merged_df['평균가격'] > 0].copy()\n",
    "merged_df.fillna(0, inplace=True)\n",
    "\n",
    "# 특성 공학\n",
    "merged_df['날짜'] = pd.to_datetime(merged_df['날짜'])\n",
    "merged_df['연도'] = merged_df['날짜'].dt.year\n",
    "merged_df['월'] = merged_df['날짜'].dt.month\n",
    "print('데이터 통합 및 전처리 완료. 최종 데이터셋 일부:')\n",
    "print(merged_df.head())"
   ]
  },
  {
   "cell_type": "markdown",
   "metadata": {},
   "source": [
    "## 2. 모델 학습, 튜닝 및 종합 평가"
   ]
  },
  {
   "cell_type": "code",
   "execution_count": 9,
   "metadata": {},
   "outputs": [
    {
     "name": "stdout",
     "output_type": "stream",
     "text": [
      "--- 시금치 모델 튜닝 및 평가 시작 ---\n",
      "RandomForest 모델 튜닝 중...\n",
      "XGBoost 모델 튜닝 중...\n",
      "LightGBM 모델 튜닝 중...\n",
      "앙상블(Voting) 모델 평가 중...\n",
      "--- 시금치 최종 모델 평가 결과 ---\n",
      "            Model          MAE           MSE         RMSE        R2                                                   Best Params\n",
      "3  VotingEnsemble  2520.730890  3.249497e+07  5700.435882  0.721114                                                           N/A\n",
      "0    RandomForest  2748.606547  3.286898e+07  5733.147897  0.717904                        {'max_depth': 20, 'n_estimators': 100}\n",
      "2        LightGBM  2736.081603  3.333075e+07  5773.279368  0.713941   {'learning_rate': 0.1, 'max_depth': 7, 'n_estimators': 200}\n",
      "1         XGBoost  2639.344366  3.581256e+07  5984.359488  0.692641  {'learning_rate': 0.05, 'max_depth': 5, 'n_estimators': 200}\n",
      "=> 시금치의 최종 최적 모델은 VotingEnsemble 입니다.\n",
      "   - R2: 0.7211\n",
      "   - 최적 파라미터: N/A\n",
      "----------------------------------------------------------------------\n",
      "--- 오이 모델 튜닝 및 평가 시작 ---\n",
      "RandomForest 모델 튜닝 중...\n",
      "XGBoost 모델 튜닝 중...\n",
      "LightGBM 모델 튜닝 중...\n",
      "앙상블(Voting) 모델 평가 중...\n",
      "--- 오이 최종 모델 평가 결과 ---\n",
      "            Model          MAE           MSE         RMSE        R2                                                   Best Params\n",
      "2        LightGBM  2540.987479  1.260947e+07  3550.981145  0.868862   {'learning_rate': 0.1, 'max_depth': 5, 'n_estimators': 200}\n",
      "1         XGBoost  2507.261250  1.302185e+07  3608.580695  0.864573  {'learning_rate': 0.05, 'max_depth': 5, 'n_estimators': 200}\n",
      "3  VotingEnsemble  2513.524624  1.306258e+07  3614.218672  0.864149                                                           N/A\n",
      "0    RandomForest  2948.509919  1.817426e+07  4263.127932  0.810988                        {'max_depth': 20, 'n_estimators': 100}\n",
      "=> 오이의 최종 최적 모델은 LightGBM 입니다.\n",
      "   - R2: 0.8689\n",
      "   - 최적 파라미터: {'learning_rate': 0.1, 'max_depth': 5, 'n_estimators': 200}\n",
      "----------------------------------------------------------------------\n"
     ]
    }
   ],
   "source": [
    "def find_best_model_with_full_evaluation(df, vegetable_name):\n",
    "    target_df = df[df['품목'] == vegetable_name].copy()\n",
    "    target_df['지역'] = target_df['지역'].astype('category').cat.codes\n",
    "\n",
    "    # **수출입 중량 특성 추가**\n",
    "    features = ['평균기온(°C)', '월합강수량(00~24h만)(mm)', '평균풍속(m/s)', '최심적설(cm)', '한파발생', '태풍발생', '폭염발생', '지역', '연도', '월', '수출중량', '수입중량']\n",
    "    target = '평균가격'\n",
    "\n",
    "    X = target_df[features]\n",
    "    y = target_df[target]\n",
    "    X_train, X_test, y_train, y_test = train_test_split(X, y, test_size=0.2, random_state=42)\n",
    "\n",
    "    # 모델 및 파라미터 그리드 정의\n",
    "    models_and_params = [\n",
    "        ('RandomForest', RandomForestRegressor(random_state=42), {'n_estimators': [100, 200], 'max_depth': [5, 10, 20]}),\n",
    "        ('XGBoost', XGBRegressor(random_state=42), {'n_estimators': [100, 200], 'max_depth': [5, 7], 'learning_rate': [0.05, 0.1]}),\n",
    "        ('LightGBM', LGBMRegressor(random_state=42, verbose=-1), {'n_estimators': [100, 200], 'max_depth': [5, 7], 'learning_rate': [0.05, 0.1]})\n",
    "    ]\n",
    "\n",
    "    best_estimators = []\n",
    "    results_summary = []\n",
    "\n",
    "    print(f'--- {vegetable_name} 모델 튜닝 및 평가 시작 ---')\n",
    "\n",
    "    for name, model, params in models_and_params:\n",
    "        print(f'{name} 모델 튜닝 중...')\n",
    "        grid_search = GridSearchCV(estimator=model, param_grid=params, cv=3, n_jobs=-1, scoring='r2')\n",
    "        grid_search.fit(X_train, y_train)\n",
    "        best_model = grid_search.best_estimator_\n",
    "        y_pred = best_model.predict(X_test)\n",
    "\n",
    "        # 평가 지표 계산\n",
    "        mae = mean_absolute_error(y_test, y_pred)\n",
    "        mse = mean_squared_error(y_test, y_pred)\n",
    "        rmse = np.sqrt(mse)\n",
    "        r2 = r2_score(y_test, y_pred)\n",
    "\n",
    "        results_summary.append({'Model': name, 'MAE': mae, 'MSE': mse, 'RMSE': rmse, 'R2': r2, 'Best Params': grid_search.best_params_})\n",
    "        best_estimators.append((name, best_model))\n",
    "\n",
    "    # 앙상블 모델 평가\n",
    "    print('앙상블(Voting) 모델 평가 중...')\n",
    "    voting_model = VotingRegressor(estimators=best_estimators)\n",
    "    voting_model.fit(X_train, y_train)\n",
    "    y_pred_voting = voting_model.predict(X_test)\n",
    "    mae_v = mean_absolute_error(y_test, y_pred_voting)\n",
    "    mse_v = mean_squared_error(y_test, y_pred_voting)\n",
    "    rmse_v = np.sqrt(mse_v)\n",
    "    r2_v = r2_score(y_test, y_pred_voting)\n",
    "    results_summary.append({'Model': 'VotingEnsemble', 'MAE': mae_v, 'MSE': mse_v, 'RMSE': rmse_v, 'R2': r2_v, 'Best Params': 'N/A'})\n",
    "\n",
    "    # 최종 결과 출력\n",
    "    results_df = pd.DataFrame(results_summary).sort_values(by='R2', ascending=False)\n",
    "    best_model_info = results_df.iloc[0]\n",
    "\n",
    "    print(f'--- {vegetable_name} 최종 모델 평가 결과 ---')\n",
    "    print(results_df.to_string())\n",
    "    print(f'=> {vegetable_name}의 최종 최적 모델은 {best_model_info[\"Model\"]} 입니다.')\n",
    "    print(f'   - R2: {best_model_info[\"R2\"]:.4f}')\n",
    "    print(f'   - 최적 파라미터: {best_model_info[\"Best Params\"]}')\n",
    "    print('-'*70)\n",
    "\n",
    "# 함수 실행\n",
    "find_best_model_with_full_evaluation(merged_df, '시금치')\n",
    "find_best_model_with_full_evaluation(merged_df, '오이')"
   ]
  }
 ],
 "metadata": {
  "kernelspec": {
   "display_name": "ml_env",
   "language": "python",
   "name": "python3"
  },
  "language_info": {
   "codemirror_mode": {
    "name": "ipython",
    "version": 3
   },
   "file_extension": ".py",
   "mimetype": "text/x-python",
   "name": "python",
   "nbconvert_exporter": "python",
   "pygments_lexer": "ipython3",
   "version": "3.12.11"
  }
 },
 "nbformat": 4,
 "nbformat_minor": 4
}
