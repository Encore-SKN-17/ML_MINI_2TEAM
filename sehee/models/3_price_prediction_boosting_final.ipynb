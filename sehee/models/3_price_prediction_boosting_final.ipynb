{
 "cells": [
  {
   "cell_type": "markdown",
   "metadata": {},
   "source": [
    "# 가격 예측을 위한 최종 부스팅 모델 선정\n",
    "*수출입 데이터를 포함한 전체 데이터셋을 사용하여, 세 가지 주요 부스팅 모델(GradientBoosting, XGBoost, LightGBM)의 성능을 비교하고 최적의 하이퍼파라미터를 탐색합니다.*"
   ]
  },
  {
   "cell_type": "code",
   "execution_count": 4,
   "metadata": {},
   "outputs": [],
   "source": [
    "import pandas as pd\n",
    "import numpy as np\n",
    "from sklearn.model_selection import train_test_split, GridSearchCV\n",
    "from sklearn.ensemble import GradientBoostingRegressor\n",
    "from xgboost import XGBRegressor\n",
    "from lightgbm import LGBMRegressor\n",
    "from sklearn.metrics import mean_absolute_error, mean_squared_error, r2_score\n",
    "import warnings\n",
    "\n",
    "warnings.filterwarnings('ignore')"
   ]
  },
  {
   "cell_type": "markdown",
   "metadata": {},
   "source": [
    "## 1. 데이터 불러오기 및 통합 전처리"
   ]
  },
  {
   "cell_type": "code",
   "execution_count": null,
   "metadata": {},
   "outputs": [
    {
     "name": "stdout",
     "output_type": "stream",
     "text": [
      "데이터 통합 및 전처리 완료.\n"
     ]
    }
   ],
   "source": [
    "# 데이터 로드\n",
    "cold_df = pd.read_excel('../data//mon_cold.xlsx')\n",
    "wind_df = pd.read_excel('../data//mon_wind.xlsx')\n",
    "hot_df = pd.read_excel('../data//mon_hot.xlsx')\n",
    "price_df = pd.read_excel('../data//region_price.xlsx')\n",
    "weather_df = pd.read_csv('../data//region_weather.csv')\n",
    "trade_df = pd.read_excel('../data//spinach_cucumber_df.xlsx')\n",
    "\n",
    "# 데이터 전처리 (이전과 동일)\n",
    "cold_df_melted = cold_df.melt(id_vars=['지역'], var_name='날짜', value_name='한파발생')\n",
    "wind_df_melted = wind_df.melt(id_vars=['지역'], var_name='날짜', value_name='태풍발생')\n",
    "hot_df_melted = hot_df.melt(id_vars=['지역'], var_name='날짜', value_name='폭염발생')\n",
    "for df in [price_df, weather_df, trade_df]:\n",
    "    df['날짜'] = pd.to_datetime(df['날짜'], errors='coerce').dt.strftime('%Y-%m')\n",
    "merged_df = pd.merge(price_df, weather_df, on=['지역', '날짜'], how='left')\n",
    "merged_df = pd.merge(merged_df, cold_df_melted, on=['지역', '날짜'], how='left')\n",
    "merged_df = pd.merge(merged_df, wind_df_melted, on=['지역', '날짜'], how='left')\n",
    "merged_df = pd.merge(merged_df, hot_df_melted, on=['지역', '날짜'], how='left')\n",
    "merged_df = pd.merge(merged_df, trade_df, on=['품목', '날짜'], how='left')\n",
    "merged_df.dropna(subset=['평균가격'], inplace=True)\n",
    "merged_df = merged_df[merged_df['평균가격'] > 0].copy()\n",
    "merged_df.fillna(0, inplace=True)\n",
    "\n",
    "# 특성 공학\n",
    "merged_df['날짜'] = pd.to_datetime(merged_df['날짜'])\n",
    "merged_df['연도'] = merged_df['날짜'].dt.year\n",
    "merged_df['월'] = merged_df['날짜'].dt.month\n",
    "print('데이터 통합 및 전처리 완료.')"
   ]
  },
  {
   "cell_type": "markdown",
   "metadata": {},
   "source": [
    "## 2. 부스팅 모델 비교, 튜닝 및 평가"
   ]
  },
  {
   "cell_type": "code",
   "execution_count": 6,
   "metadata": {},
   "outputs": [
    {
     "name": "stdout",
     "output_type": "stream",
     "text": [
      "--- 시금치 부스팅 모델 튜닝 및 평가 시작 ---\n",
      "GradientBoosting 모델 튜닝 중...\n",
      "XGBoost 모델 튜닝 중...\n",
      "LightGBM 모델 튜닝 중...\n",
      "--- 시금치 최종 모델 평가 결과 ---\n",
      "              Model          MAE           MSE         RMSE        R2                                                                    Best Params\n",
      "0  GradientBoosting  2816.530927  3.355529e+07  5792.692787  0.712014                   {'learning_rate': 0.05, 'max_depth': 3, 'n_estimators': 200}\n",
      "1          LightGBM  2842.609523  3.409037e+07  5838.696287  0.707422  {'learning_rate': 0.1, 'max_depth': 7, 'n_estimators': 300, 'num_leaves': 31}\n",
      "2           XGBoost  2839.077850  3.570659e+07  5975.499357  0.693551                    {'learning_rate': 0.1, 'max_depth': 3, 'n_estimators': 100}\n",
      "=> 시금치의 최종 최적 모델은 GradientBoosting 입니다.\n",
      "   - R2 Score: 0.7120\n",
      "   - Best Hyperparameters: {'learning_rate': 0.05, 'max_depth': 3, 'n_estimators': 200}\n",
      "--------------------------------------------------------------------------------\n",
      "--- 오이 부스팅 모델 튜닝 및 평가 시작 ---\n",
      "GradientBoosting 모델 튜닝 중...\n",
      "XGBoost 모델 튜닝 중...\n",
      "LightGBM 모델 튜닝 중...\n",
      "--- 오이 최종 모델 평가 결과 ---\n",
      "              Model          MAE           MSE         RMSE        R2                                                                    Best Params\n",
      "0           XGBoost  2312.853534  1.124192e+07  3352.897428  0.883084                    {'learning_rate': 0.1, 'max_depth': 3, 'n_estimators': 300}\n",
      "1  GradientBoosting  2437.445328  1.201865e+07  3466.791946  0.875006                    {'learning_rate': 0.1, 'max_depth': 3, 'n_estimators': 200}\n",
      "2          LightGBM  2540.987479  1.260947e+07  3550.981145  0.868862  {'learning_rate': 0.1, 'max_depth': 5, 'n_estimators': 200, 'num_leaves': 31}\n",
      "=> 오이의 최종 최적 모델은 XGBoost 입니다.\n",
      "   - R2 Score: 0.8831\n",
      "   - Best Hyperparameters: {'learning_rate': 0.1, 'max_depth': 3, 'n_estimators': 300}\n",
      "--------------------------------------------------------------------------------\n"
     ]
    }
   ],
   "source": [
    "def find_best_boosting_model(df, vegetable_name):\n",
    "    target_df = df[df['품목'] == vegetable_name].copy()\n",
    "    target_df['지역'] = target_df['지역'].astype('category').cat.codes\n",
    "\n",
    "    features = ['평균기온(°C)', '월합강수량(00~24h만)(mm)', '평균풍속(m/s)', '최심적설(cm)', '한파발생', '태풍발생', '폭염발생', '지역', '연도', '월', '수출중량', '수입중량']\n",
    "    target = '평균가격'\n",
    "\n",
    "    X = target_df[features]\n",
    "    y = target_df[target]\n",
    "    X_train, X_test, y_train, y_test = train_test_split(X, y, test_size=0.2, random_state=42)\n",
    "\n",
    "    # 모델 및 하이퍼파라미터 그리드 정의\n",
    "    models_and_params = [\n",
    "        ('GradientBoosting', GradientBoostingRegressor(random_state=42), {'n_estimators': [100, 200], 'max_depth': [3, 5], 'learning_rate': [0.05, 0.1]}),\n",
    "        ('XGBoost', XGBRegressor(random_state=42), {'n_estimators': [100, 200, 300], 'max_depth': [3, 5, 7], 'learning_rate': [0.05, 0.1]}),\n",
    "        ('LightGBM', LGBMRegressor(random_state=42, verbose=-1), {'n_estimators': [100, 200, 300], 'max_depth': [5, 7], 'learning_rate': [0.05, 0.1], 'num_leaves': [31, 63]})\n",
    "    ]\n",
    "\n",
    "    results_summary = []\n",
    "\n",
    "    print(f'--- {vegetable_name} 부스팅 모델 튜닝 및 평가 시작 ---')\n",
    "\n",
    "    for name, model, params in models_and_params:\n",
    "        print(f'{name} 모델 튜닝 중...')\n",
    "        grid_search = GridSearchCV(estimator=model, param_grid=params, cv=3, n_jobs=-1, scoring='r2', verbose=0)\n",
    "        grid_search.fit(X_train, y_train)\n",
    "        best_model = grid_search.best_estimator_\n",
    "        y_pred = best_model.predict(X_test)\n",
    "\n",
    "        # 평가 지표 계산\n",
    "        mae = mean_absolute_error(y_test, y_pred)\n",
    "        mse = mean_squared_error(y_test, y_pred)\n",
    "        rmse = np.sqrt(mse)\n",
    "        r2 = r2_score(y_test, y_pred)\n",
    "\n",
    "        results_summary.append({'Model': name, 'MAE': mae, 'MSE': mse, 'RMSE': rmse, 'R2': r2, 'Best Params': grid_search.best_params_})\n",
    "\n",
    "    # 최종 결과 출력\n",
    "    results_df = pd.DataFrame(results_summary).sort_values(by='R2', ascending=False).reset_index(drop=True)\n",
    "    best_model_info = results_df.iloc[0]\n",
    "\n",
    "    print(f'--- {vegetable_name} 최종 모델 평가 결과 ---')\n",
    "    print(results_df.to_string())\n",
    "    print(f'=> {vegetable_name}의 최종 최적 모델은 {best_model_info[\"Model\"]} 입니다.')\n",
    "    print(f'   - R2 Score: {best_model_info[\"R2\"]:.4f}')\n",
    "    print(f'   - Best Hyperparameters: {best_model_info[\"Best Params\"]}')\n",
    "    print('-'*80)\n",
    "\n",
    "# 함수 실행\n",
    "find_best_boosting_model(merged_df, '시금치')\n",
    "find_best_boosting_model(merged_df, '오이')"
   ]
  }
 ],
 "metadata": {
  "kernelspec": {
   "display_name": "ml_env",
   "language": "python",
   "name": "python3"
  },
  "language_info": {
   "codemirror_mode": {
    "name": "ipython",
    "version": 3
   },
   "file_extension": ".py",
   "mimetype": "text/x-python",
   "name": "python",
   "nbconvert_exporter": "python",
   "pygments_lexer": "ipython3",
   "version": "3.12.11"
  }
 },
 "nbformat": 4,
 "nbformat_minor": 4
}
