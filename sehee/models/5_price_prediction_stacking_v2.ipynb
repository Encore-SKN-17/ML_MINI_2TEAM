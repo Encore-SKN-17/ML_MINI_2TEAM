{
 "cells": [
  {
   "cell_type": "markdown",
   "metadata": {},
   "source": [
    "# 가격 예측을 위한 스태킹(Stacking) 모델 v2\n",
    "*메타 모델로 LinearRegression과 Ridge를 비교하여 최적의 스태킹 조합을 찾습니다.*"
   ]
  },
  {
   "cell_type": "code",
   "execution_count": 6,
   "metadata": {},
   "outputs": [],
   "source": [
    "import pandas as pd\n",
    "import numpy as np\n",
    "from sklearn.model_selection import train_test_split, GridSearchCV\n",
    "from sklearn.linear_model import LinearRegression, Ridge\n",
    "from sklearn.ensemble import GradientBoostingRegressor, StackingRegressor\n",
    "from xgboost import XGBRegressor\n",
    "from lightgbm import LGBMRegressor\n",
    "from sklearn.metrics import mean_absolute_error, mean_squared_error, r2_score\n",
    "import warnings\n",
    "\n",
    "warnings.filterwarnings('ignore')"
   ]
  },
  {
   "cell_type": "markdown",
   "metadata": {},
   "source": [
    "## 1. 데이터 불러오기 및 통합 전처리"
   ]
  },
  {
   "cell_type": "code",
   "execution_count": null,
   "metadata": {},
   "outputs": [
    {
     "name": "stdout",
     "output_type": "stream",
     "text": [
      "데이터 통합 및 전처리 완료.\n"
     ]
    }
   ],
   "source": [
    "# 데이터 로드 및 전처리 (이전과 동일)\n",
    "cold_df = pd.read_excel('../data/mon_cold.xlsx')\n",
    "wind_df = pd.read_excel('../data/mon_wind.xlsx')\n",
    "hot_df = pd.read_excel('../data/mon_hot.xlsx')\n",
    "price_df = pd.read_excel('../data/region_price.xlsx')\n",
    "weather_df = pd.read_csv('../data/region_weather.csv')\n",
    "trade_df = pd.read_excel('../data/spinach_cucumber_df.xlsx')\n",
    "\n",
    "cold_df_melted = cold_df.melt(id_vars=['지역'], var_name='날짜', value_name='한파발생')\n",
    "wind_df_melted = wind_df.melt(id_vars=['지역'], var_name='날짜', value_name='태풍발생')\n",
    "hot_df_melted = hot_df.melt(id_vars=['지역'], var_name='날짜', value_name='폭염발생')\n",
    "for df in [price_df, weather_df, trade_df]:\n",
    "    df['날짜'] = pd.to_datetime(df['날짜'], errors='coerce').dt.strftime('%Y-%m')\n",
    "merged_df = pd.merge(price_df, weather_df, on=['지역', '날짜'], how='left')\n",
    "merged_df = pd.merge(merged_df, cold_df_melted, on=['지역', '날짜'], how='left')\n",
    "merged_df = pd.merge(merged_df, wind_df_melted, on=['지역', '날짜'], how='left')\n",
    "merged_df = pd.merge(merged_df, hot_df_melted, on=['지역', '날짜'], how='left')\n",
    "merged_df = pd.merge(merged_df, trade_df, on=['품목', '날짜'], how='left')\n",
    "merged_df.dropna(subset=['평균가격'], inplace=True)\n",
    "merged_df = merged_df[merged_df['평균가격'] > 0].copy()\n",
    "merged_df.fillna(0, inplace=True)\n",
    "\n",
    "merged_df['날짜'] = pd.to_datetime(merged_df['날짜'])\n",
    "merged_df['연도'] = merged_df['날짜'].dt.year\n",
    "merged_df['월'] = merged_df['날짜'].dt.month\n",
    "print('데이터 통합 및 전처리 완료.')"
   ]
  },
  {
   "cell_type": "markdown",
   "metadata": {},
   "source": [
    "## 2. 스태킹 모델 (메타 모델 비교) 튜닝 및 평가"
   ]
  },
  {
   "cell_type": "code",
   "execution_count": null,
   "metadata": {},
   "outputs": [
    {
     "name": "stdout",
     "output_type": "stream",
     "text": [
      "--- 시금치 스태킹 모델 튜닝 시작 ---\n",
      "Fitting 3 folds for each of 128 candidates, totalling 384 fits\n",
      "--- 시금치 최종 스태킹 모델 평가 결과 ---\n",
      "MAE: 2759.3627\n",
      "MSE: 32759543.3088\n",
      "RMSE: 5723.5953\n",
      "R-squared: 0.7188\n",
      "Best Hyperparameters: {'final_estimator__fit_intercept': False, 'gb__learning_rate': 0.05, 'gb__n_estimators': 200, 'lgbm__learning_rate': 0.1, 'lgbm__n_estimators': 200, 'xgb__learning_rate': 0.05, 'xgb__n_estimators': 100}\n",
      "--------------------------------------------------------------------------------\n",
      "--- 오이 스태킹 모델 튜닝 시작 ---\n",
      "Fitting 3 folds for each of 128 candidates, totalling 384 fits\n",
      "--- 오이 최종 스태킹 모델 평가 결과 ---\n",
      "MAE: 2566.4443\n",
      "MSE: 13090299.3208\n",
      "RMSE: 3618.0519\n",
      "R-squared: 0.8639\n",
      "Best Hyperparameters: {'final_estimator__fit_intercept': False, 'gb__learning_rate': 0.1, 'gb__n_estimators': 200, 'lgbm__learning_rate': 0.1, 'lgbm__n_estimators': 200, 'xgb__learning_rate': 0.05, 'xgb__n_estimators': 200}\n",
      "--------------------------------------------------------------------------------\n"
     ]
    }
   ],
   "source": [
    "def train_and_evaluate_stacking(df, vegetable_name):\n",
    "    target_df = df[df['품목'] == vegetable_name].copy()\n",
    "    target_df['지역'] = target_df['지역'].astype('category').cat.codes\n",
    "\n",
    "    features = ['평균기온(°C)', '월합강수량(00~24h만)(mm)', '평균풍속(m/s)', '최심적설(cm)', '한파발생', '태풍발생', '폭염발생', '지역', '연도', '월', '수출중량', '수입중량']\n",
    "    target = '평균가격'\n",
    "\n",
    "    X = target_df[features]\n",
    "    y = target_df[target]\n",
    "    X_train, X_test, y_train, y_test = train_test_split(X, y, test_size=0.2, random_state=42)\n",
    "\n",
    "    # 1. 기본 모델 정의\n",
    "    estimators = [\n",
    "        ('gb', GradientBoostingRegressor(random_state=42)),\n",
    "        ('xgb', XGBRegressor(random_state=42)),\n",
    "        ('lgbm', LGBMRegressor(random_state=42, verbose=-1))\n",
    "    ]\n",
    "\n",
    "    # 2. 스태킹 모델 생성 (메타 모델: LinearRegression)\n",
    "    stacking_model = StackingRegressor(estimators=estimators, final_estimator=LinearRegression())\n",
    "\n",
    "    # 3. 하이퍼파라미터 그리드 정의 (각 기본 모델의 파라미터를 지정)\n",
    "    params = {\n",
    "        'gb__n_estimators': [100, 200],\n",
    "        'gb__learning_rate': [0.05, 0.1],\n",
    "        'xgb__n_estimators': [100, 200],\n",
    "        'xgb__learning_rate': [0.05, 0.1],\n",
    "        'lgbm__n_estimators': [100, 200],\n",
    "        'lgbm__learning_rate': [0.05, 0.1],\n",
    "        'final_estimator__fit_intercept': [True, False]\n",
    "    }\n",
    "\n",
    "    # 4. GridSearchCV를 사용한 모델 튜닝 및 학습\n",
    "    print(f'--- {vegetable_name} 스태킹 모델 튜닝 시작 ---')\n",
    "    grid_search = GridSearchCV(estimator=stacking_model, param_grid=params, cv=3, n_jobs=-1, scoring='r2', verbose=2)\n",
    "    grid_search.fit(X_train, y_train)\n",
    "\n",
    "    # 5. 최적 모델로 평가\n",
    "    best_model = grid_search.best_estimator_\n",
    "    y_pred = best_model.predict(X_test)\n",
    "\n",
    "    mae = mean_absolute_error(y_test, y_pred)\n",
    "    mse = mean_squared_error(y_test, y_pred)\n",
    "    rmse = np.sqrt(mse)\n",
    "    r2 = r2_score(y_test, y_pred)\n",
    "\n",
    "    # 6. 최종 결과 출력\n",
    "    print(f'--- {vegetable_name} 최종 스태킹 모델 평가 결과 ---')\n",
    "    print(f'MAE: {mae:.4f}')\n",
    "    print(f'MSE: {mse:.4f}')\n",
    "    print(f'RMSE: {rmse:.4f}')\n",
    "    print(f'R-squared: {r2:.4f}')\n",
    "    print(f'Best Hyperparameters: {grid_search.best_params_}')\n",
    "    print('-'*80)\n",
    "\n",
    "# 함수 실행\n",
    "train_and_evaluate_stacking(merged_df, '시금치')\n",
    "train_and_evaluate_stacking(merged_df, '오이')"
   ]
  }
 ],
 "metadata": {
  "kernelspec": {
   "display_name": "ml_env",
   "language": "python",
   "name": "python3"
  },
  "language_info": {
   "codemirror_mode": {
    "name": "ipython",
    "version": 3
   },
   "file_extension": ".py",
   "mimetype": "text/x-python",
   "name": "python",
   "nbconvert_exporter": "python",
   "pygments_lexer": "ipython3",
   "version": "3.12.11"
  }
 },
 "nbformat": 4,
 "nbformat_minor": 4
}
