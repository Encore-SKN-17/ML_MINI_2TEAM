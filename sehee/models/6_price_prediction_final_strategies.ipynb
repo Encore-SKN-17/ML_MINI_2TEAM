{
 "cells": [
  {
   "cell_type": "markdown",
   "metadata": {},
   "source": [
    "# 최종 가격 예측 모델: 시금치(Voting) vs 오이(XGBoost)\n",
    "*시금치는 다양한 모델을 결합한 보팅 앙상블로, 오이는 XGBoost 단일 모델의 하이퍼파라미터를 집중 튜닝하여 각각 최적의 모델을 구축합니다.*"
   ]
  },
  {
   "cell_type": "code",
   "execution_count": 1,
   "metadata": {},
   "outputs": [],
   "source": [
    "import pandas as pd\n",
    "import numpy as np\n",
    "from sklearn.model_selection import train_test_split, GridSearchCV\n",
    "from sklearn.linear_model import Ridge\n",
    "from sklearn.ensemble import RandomForestRegressor, VotingRegressor\n",
    "from xgboost import XGBRegressor\n",
    "from lightgbm import LGBMRegressor\n",
    "from sklearn.metrics import mean_absolute_error, mean_squared_error, r2_score\n",
    "import warnings\n",
    "\n",
    "warnings.filterwarnings('ignore')"
   ]
  },
  {
   "cell_type": "markdown",
   "metadata": {},
   "source": [
    "## 1. 데이터 불러오기 및 통합 전처리"
   ]
  },
  {
   "cell_type": "code",
   "execution_count": null,
   "metadata": {},
   "outputs": [
    {
     "name": "stdout",
     "output_type": "stream",
     "text": [
      "데이터 통합 및 전처리 완료.\n"
     ]
    }
   ],
   "source": [
    "# 데이터 로드 및 전처리 (이전과 동일)\n",
    "cold_df = pd.read_excel('../data/mon_cold.xlsx')\n",
    "wind_df = pd.read_excel('../data/mon_wind.xlsx')\n",
    "hot_df = pd.read_excel('../data/mon_hot.xlsx')\n",
    "price_df = pd.read_excel('../data/region_price.xlsx')\n",
    "weather_df = pd.read_csv('../data/region_weather.csv')\n",
    "trade_df = pd.read_excel('../data/spinach_cucumber_df.xlsx')\n",
    "cold_df_melted = cold_df.melt(id_vars=['지역'], var_name='날짜', value_name='한파발생')\n",
    "wind_df_melted = wind_df.melt(id_vars=['지역'], var_name='날짜', value_name='태풍발생')\n",
    "hot_df_melted = hot_df.melt(id_vars=['지역'], var_name='날짜', value_name='폭염발생')\n",
    "for df in [price_df, weather_df, trade_df]:\n",
    "    df['날짜'] = pd.to_datetime(df['날짜'], errors='coerce').dt.strftime('%Y-%m')\n",
    "merged_df = pd.merge(price_df, weather_df, on=['지역', '날짜'], how='left')\n",
    "merged_df = pd.merge(merged_df, cold_df_melted, on=['지역', '날짜'], how='left')\n",
    "merged_df = pd.merge(merged_df, wind_df_melted, on=['지역', '날짜'], how='left')\n",
    "merged_df = pd.merge(merged_df, hot_df_melted, on=['지역', '날짜'], how='left')\n",
    "merged_df = pd.merge(merged_df, trade_df, on=['품목', '날짜'], how='left')\n",
    "merged_df.dropna(subset=['평균가격'], inplace=True)\n",
    "merged_df = merged_df[merged_df['평균가격'] > 0].copy()\n",
    "merged_df.fillna(0, inplace=True)\n",
    "merged_df['날짜'] = pd.to_datetime(merged_df['날짜'])\n",
    "merged_df['연도'] = merged_df['날짜'].dt.year\n",
    "merged_df['월'] = merged_df['날짜'].dt.month\n",
    "merged_df = pd.get_dummies(merged_df, columns=['지역'], prefix='지역', drop_first=True)\n",
    "print('데이터 통합 및 전처리 완료.')"
   ]
  },
  {
   "cell_type": "markdown",
   "metadata": {},
   "source": [
    "## 2. 시금치 모델: 보팅(Voting) 앙상블"
   ]
  },
  {
   "cell_type": "code",
   "execution_count": 3,
   "metadata": {},
   "outputs": [],
   "source": [
    "def train_spinach_voting_model(df):\n",
    "    target_df = df[df['품목'] == '시금치'].copy()\n",
    "    base_features = ['평균기온(°C)', '월합강수량(00~24h만)(mm)', '평균풍속(m/s)', '최심적설(cm)', '한파발생', '태풍발생', '폭염발생', '연도', '월', '수출중량', '수입중량']\n",
    "    region_features = [col for col in target_df.columns if col.startswith('지역_')]\n",
    "    features = base_features + region_features\n",
    "    target = '평균가격'\n",
    "    X_train, X_test, y_train, y_test = train_test_split(target_df[features], target_df[target], test_size=0.2, random_state=42)\n",
    "\n",
    "    # 기본 모델 정의\n",
    "    rfr = RandomForestRegressor(random_state=42)\n",
    "    xgb = XGBRegressor(random_state=42)\n",
    "    lgbm = LGBMRegressor(random_state=42, verbose=-1)\n",
    "    ridge = Ridge(random_state=42)\n",
    "    voting_reg = VotingRegressor(estimators=[('rf', rfr), ('xgb', xgb), ('lgbm', lgbm), ('ridge', ridge)])\n",
    "\n",
    "    # 하이퍼파라미터 그리드\n",
    "    params = {'rf__n_estimators': [100, 200], 'xgb__n_estimators': [100, 200], 'lgbm__n_estimators': [100, 200], 'ridge__alpha': [0.1, 1.0, 10.0]}\n",
    "\n",
    "    print('--- 시금치 보팅 모델 튜닝 시작 ---')\n",
    "    grid_search = GridSearchCV(estimator=voting_reg, param_grid=params, cv=3, n_jobs=-1, scoring='r2', verbose=2)\n",
    "    grid_search.fit(X_train, y_train)\n",
    "\n",
    "    y_pred = grid_search.predict(X_test)\n",
    "    r2 = r2_score(y_test, y_pred)\n",
    "\n",
    "    print(f'--- 시금치 최종 보팅 모델 평가 결과 ---')\n",
    "    print(f'R-squared: {r2:.4f}')\n",
    "    print(f'Best Hyperparameters: {grid_search.best_params_}')\n",
    "    print('-'*80)"
   ]
  },
  {
   "cell_type": "markdown",
   "metadata": {},
   "source": [
    "## 3. 오이 모델: XGBoost 집중 튜닝"
   ]
  },
  {
   "cell_type": "code",
   "execution_count": 4,
   "metadata": {},
   "outputs": [],
   "source": [
    "def train_cucumber_xgboost_model(df):\n",
    "    target_df = df[df['품목'] == '오이'].copy()\n",
    "    base_features = ['평균기온(°C)', '월합강수량(00~24h만)(mm)', '평균풍속(m/s)', '최심적설(cm)', '한파발생', '태풍발생', '폭염발생', '연도', '월', '수출중량', '수입중량']\n",
    "    region_features = [col for col in target_df.columns if col.startswith('지역_')]\n",
    "    features = base_features + region_features\n",
    "    target = '평균가격'\n",
    "    X_train, X_test, y_train, y_test = train_test_split(target_df[features], target_df[target], test_size=0.2, random_state=42)\n",
    "\n",
    "    # XGBoost 및 하이퍼파라미터 그리드\n",
    "    xgb = XGBRegressor(random_state=42)\n",
    "    params = {'n_estimators': [100, 200, 300], 'max_depth': [3, 5, 7], 'learning_rate': [0.01, 0.05, 0.1], 'subsample': [0.8, 1.0], 'colsample_bytree': [0.8, 1.0]}\n",
    "\n",
    "    print('--- 오이 XGBoost 모델 튜닝 시작 ---')\n",
    "    grid_search = GridSearchCV(estimator=xgb, param_grid=params, cv=3, n_jobs=-1, scoring='r2', verbose=2)\n",
    "    grid_search.fit(X_train, y_train)\n",
    "\n",
    "    y_pred = grid_search.predict(X_test)\n",
    "    r2 = r2_score(y_test, y_pred)\n",
    "\n",
    "    print(f'--- 오이 최종 XGBoost 모델 평가 결과 ---')\n",
    "    print(f'R-squared: {r2:.4f}')\n",
    "    print(f'Best Hyperparameters: {grid_search.best_params_}')\n",
    "    print('-'*80)"
   ]
  },
  {
   "cell_type": "code",
   "execution_count": 5,
   "metadata": {},
   "outputs": [
    {
     "name": "stdout",
     "output_type": "stream",
     "text": [
      "--- 시금치 보팅 모델 튜닝 시작 ---\n",
      "Fitting 3 folds for each of 24 candidates, totalling 72 fits\n",
      "--- 시금치 최종 보팅 모델 평가 결과 ---\n",
      "R-squared: 0.7081\n",
      "Best Hyperparameters: {'lgbm__n_estimators': 200, 'rf__n_estimators': 100, 'ridge__alpha': 0.1, 'xgb__n_estimators': 200}\n",
      "--------------------------------------------------------------------------------\n",
      "--- 오이 XGBoost 모델 튜닝 시작 ---\n",
      "Fitting 3 folds for each of 108 candidates, totalling 324 fits\n",
      "--- 오이 최종 XGBoost 모델 평가 결과 ---\n",
      "R-squared: 0.8952\n",
      "Best Hyperparameters: {'colsample_bytree': 0.8, 'learning_rate': 0.05, 'max_depth': 5, 'n_estimators': 300, 'subsample': 0.8}\n",
      "--------------------------------------------------------------------------------\n"
     ]
    }
   ],
   "source": [
    "# 모델 학습 실행\n",
    "train_spinach_voting_model(merged_df)\n",
    "train_cucumber_xgboost_model(merged_df)"
   ]
  }
 ],
 "metadata": {
  "kernelspec": {
   "display_name": "ml_env",
   "language": "python",
   "name": "python3"
  },
  "language_info": {
   "codemirror_mode": {
    "name": "ipython",
    "version": 3
   },
   "file_extension": ".py",
   "mimetype": "text/x-python",
   "name": "python",
   "nbconvert_exporter": "python",
   "pygments_lexer": "ipython3",
   "version": "3.12.11"
  }
 },
 "nbformat": 4,
 "nbformat_minor": 4
}
