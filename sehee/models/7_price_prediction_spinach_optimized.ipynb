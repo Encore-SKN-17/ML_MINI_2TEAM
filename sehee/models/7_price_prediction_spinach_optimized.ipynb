{
 "cells": [
  {
   "cell_type": "markdown",
   "metadata": {},
   "source": [
    "# 시금치 가격 예측 최종 최적화 모델\n",
    "*시차(Lag) 특성을 추가하고, 스태킹(Stacking) 앙상블을 적용하여 시금치 모델의 예측 성능을 극대화합니다.*"
   ]
  },
  {
   "cell_type": "code",
   "execution_count": 1,
   "metadata": {},
   "outputs": [],
   "source": [
    "import pandas as pd\n",
    "import numpy as np\n",
    "from sklearn.model_selection import train_test_split, GridSearchCV\n",
    "from sklearn.linear_model import Ridge\n",
    "from sklearn.ensemble import RandomForestRegressor, StackingRegressor\n",
    "from xgboost import XGBRegressor\n",
    "from lightgbm import LGBMRegressor\n",
    "from sklearn.metrics import mean_absolute_error, mean_squared_error, r2_score\n",
    "import warnings\n",
    "\n",
    "warnings.filterwarnings('ignore')"
   ]
  },
  {
   "cell_type": "markdown",
   "metadata": {},
   "source": [
    "## 1. 데이터 불러오기 및 특성 공학"
   ]
  },
  {
   "cell_type": "code",
   "execution_count": null,
   "metadata": {},
   "outputs": [
    {
     "name": "stdout",
     "output_type": "stream",
     "text": [
      "특성 공학(시차, 원-핫 인코딩) 적용 완료.\n"
     ]
    }
   ],
   "source": [
    "# 데이터 로드 및 기본 전처리 (이전과 동일)\n",
    "cold_df = pd.read_excel('../data/mon_cold.xlsx')\n",
    "wind_df = pd.read_excel('../data/mon_wind.xlsx')\n",
    "hot_df = pd.read_excel('../data/mon_hot.xlsx')\n",
    "price_df = pd.read_excel('../data/region_price.xlsx')\n",
    "weather_df = pd.read_csv('../data/region_weather.csv')\n",
    "trade_df = pd.read_excel('../data/spinach_cucumber_df.xlsx')\n",
    "cold_df_melted = cold_df.melt(id_vars=['지역'], var_name='날짜', value_name='한파발생')\n",
    "wind_df_melted = wind_df.melt(id_vars=['지역'], var_name='날짜', value_name='태풍발생')\n",
    "hot_df_melted = hot_df.melt(id_vars=['지역'], var_name='날짜', value_name='폭염발생')\n",
    "for df in [price_df, weather_df, trade_df]:\n",
    "    df['날짜'] = pd.to_datetime(df['날짜'], errors='coerce').dt.strftime('%Y-%m')\n",
    "merged_df = pd.merge(price_df, weather_df, on=['지역', '날짜'], how='left')\n",
    "merged_df = pd.merge(merged_df, cold_df_melted, on=['지역', '날짜'], how='left')\n",
    "merged_df = pd.merge(merged_df, wind_df_melted, on=['지역', '날짜'], how='left')\n",
    "merged_df = pd.merge(merged_df, hot_df_melted, on=['지역', '날짜'], how='left')\n",
    "merged_df = pd.merge(merged_df, trade_df, on=['품목', '날짜'], how='left')\n",
    "merged_df.dropna(subset=['평균가격'], inplace=True)\n",
    "merged_df = merged_df[merged_df['평균가격'] > 0].copy()\n",
    "merged_df.fillna(0, inplace=True)\n",
    "merged_df['날짜'] = pd.to_datetime(merged_df['날짜'])\n",
    "merged_df['연도'] = merged_df['날짜'].dt.year\n",
    "merged_df['월'] = merged_df['날짜'].dt.month\n",
    "\n",
    "# **핵심 개선: 시차(Lag) 특성 추가**\n",
    "merged_df.sort_values(by=['지역', '날짜'], inplace=True)\n",
    "merged_df['가격_시차1'] = merged_df.groupby(['지역', '품목'])['평균가격'].shift(1)\n",
    "\n",
    "# 시차 특성 생성으로 인한 결측치 제거\n",
    "merged_df.dropna(subset=['가격_시차1'], inplace=True)\n",
    "\n",
    "# 원-핫 인코딩 적용\n",
    "merged_df = pd.get_dummies(merged_df, columns=['지역'], prefix='지역', drop_first=True)\n",
    "print('특성 공학(시차, 원-핫 인코딩) 적용 완료.')"
   ]
  },
  {
   "cell_type": "markdown",
   "metadata": {},
   "source": [
    "## 2. 시금치 최종 모델: 스태킹(Stacking) 앙상블"
   ]
  },
  {
   "cell_type": "code",
   "execution_count": 3,
   "metadata": {},
   "outputs": [
    {
     "name": "stdout",
     "output_type": "stream",
     "text": [
      "--- 시금치 최종 최적화 모델 튜닝 시작 ---\n",
      "Fitting 3 folds for each of 8 candidates, totalling 24 fits\n",
      "--- 시금치 최종 최적화 모델 평가 결과 ---\n",
      "MAE: 1940.9941\n",
      "MSE: 9953642.8815\n",
      "RMSE: 3154.9394\n",
      "R-squared: 0.9178\n",
      "Best Hyperparameters: {'lgbm__n_estimators': 200, 'rf__n_estimators': 200, 'xgb__n_estimators': 100}\n",
      "--------------------------------------------------------------------------------\n"
     ]
    }
   ],
   "source": [
    "def train_spinach_optimized_model(df):\n",
    "    target_df = df[df['품목'] == '시금치'].copy()\n",
    "\n",
    "    # **시차 특성을 포함한 최종 features 목록**\n",
    "    base_features = ['평균기온(°C)', '월합강수량(00~24h만)(mm)', '평균풍속(m/s)', '최심적설(cm)', '한파발생', '태풍발생', '폭염발생', '연도', '월', '수출중량', '수입중량', '가격_시차1']\n",
    "    region_features = [col for col in target_df.columns if col.startswith('지역_')]\n",
    "    features = base_features + region_features\n",
    "    target = '평균가격'\n",
    "    X_train, X_test, y_train, y_test = train_test_split(target_df[features], target_df[target], test_size=0.2, random_state=42)\n",
    "\n",
    "    # 기본 모델 및 스태킹 모델 정의\n",
    "    estimators = [\n",
    "        ('rf', RandomForestRegressor(random_state=42)),\n",
    "        ('xgb', XGBRegressor(random_state=42)),\n",
    "        ('lgbm', LGBMRegressor(random_state=42, verbose=-1))\n",
    "    ]\n",
    "    stacking_reg = StackingRegressor(estimators=estimators, final_estimator=Ridge(alpha=1.0), cv=5)\n",
    "\n",
    "    # 하이퍼파라미터 그리드\n",
    "    params = {'rf__n_estimators': [100, 200], 'xgb__n_estimators': [100, 200], 'lgbm__n_estimators': [100, 200]}\n",
    "\n",
    "    print('--- 시금치 최종 최적화 모델 튜닝 시작 ---')\n",
    "    grid_search = GridSearchCV(estimator=stacking_reg, param_grid=params, cv=3, n_jobs=-1, scoring='r2', verbose=2)\n",
    "    grid_search.fit(X_train, y_train)\n",
    "\n",
    "    y_pred = grid_search.predict(X_test)\n",
    "    mae = mean_absolute_error(y_test, y_pred)\n",
    "    mse = mean_squared_error(y_test, y_pred)\n",
    "    rmse = np.sqrt(mse)\n",
    "    r2 = r2_score(y_test, y_pred)\n",
    "\n",
    "    print(f'--- 시금치 최종 최적화 모델 평가 결과 ---')\n",
    "    print(f'MAE: {mae:.4f}')\n",
    "    print(f'MSE: {mse:.4f}')\n",
    "    print(f'RMSE: {rmse:.4f}')\n",
    "    print(f'R-squared: {r2:.4f}')\n",
    "    print(f'Best Hyperparameters: {grid_search.best_params_}')\n",
    "    print('-'*80)\n",
    "\n",
    "# 모델 학습 실행\n",
    "train_spinach_optimized_model(merged_df)"
   ]
  }
 ],
 "metadata": {
  "kernelspec": {
   "display_name": "ml_env",
   "language": "python",
   "name": "python3"
  },
  "language_info": {
   "codemirror_mode": {
    "name": "ipython",
    "version": 3
   },
   "file_extension": ".py",
   "mimetype": "text/x-python",
   "name": "python",
   "nbconvert_exporter": "python",
   "pygments_lexer": "ipython3",
   "version": "3.12.11"
  }
 },
 "nbformat": 4,
 "nbformat_minor": 4
}
