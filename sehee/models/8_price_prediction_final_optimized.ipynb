{
 "cells": [
  {
   "cell_type": "markdown",
   "metadata": {},
   "source": [
    "# 최종 가격 예측 모델 (시금치 & 오이)\n",
    "*시차 특성과 스태킹 앙상블을 적용하여 두 품목의 예측 성능을 모두 최적화합니다.*"
   ]
  },
  {
   "cell_type": "markdown",
   "metadata": {},
   "source": [
    "### 1. 라이브러리 임포트"
   ]
  },
  {
   "cell_type": "code",
   "execution_count": 1,
   "metadata": {},
   "outputs": [],
   "source": [
    "import pandas as pd\n",
    "import numpy as np\n",
    "from sklearn.model_selection import train_test_split, GridSearchCV\n",
    "from sklearn.linear_model import Ridge\n",
    "from sklearn.ensemble import RandomForestRegressor, StackingRegressor\n",
    "from xgboost import XGBRegressor\n",
    "from lightgbm import LGBMRegressor\n",
    "from sklearn.metrics import mean_absolute_error, mean_squared_error, r2_score\n",
    "import warnings\n",
    "\n",
    "warnings.filterwarnings('ignore')"
   ]
  },
  {
   "cell_type": "markdown",
   "metadata": {},
   "source": [
    "### 2. 데이터 로드"
   ]
  },
  {
   "cell_type": "code",
   "execution_count": null,
   "metadata": {},
   "outputs": [
    {
     "name": "stdout",
     "output_type": "stream",
     "text": [
      "데이터 로드 완료.\n"
     ]
    }
   ],
   "source": [
    "cold_df = pd.read_excel('../data/mon_cold.xlsx')\n",
    "wind_df = pd.read_excel('../data/mon_wind.xlsx')\n",
    "hot_df = pd.read_excel('../data/mon_hot.xlsx')\n",
    "price_df = pd.read_excel('../data/region_price.xlsx')\n",
    "weather_df = pd.read_csv('../data/region_weather.csv')\n",
    "trade_df = pd.read_excel('../data/spinach_cucumber_df.xlsx')\n",
    "print('데이터 로드 완료.')"
   ]
  },
  {
   "cell_type": "markdown",
   "metadata": {},
   "source": [
    "### 3. 데이터 전처리 및 병합"
   ]
  },
  {
   "cell_type": "code",
   "execution_count": 3,
   "metadata": {},
   "outputs": [
    {
     "name": "stdout",
     "output_type": "stream",
     "text": [
      "데이터 병합 완료.\n"
     ]
    }
   ],
   "source": [
    "cold_df_melted = cold_df.melt(id_vars=['지역'], var_name='날짜', value_name='한파발생')\n",
    "wind_df_melted = wind_df.melt(id_vars=['지역'], var_name='날짜', value_name='태풍발생')\n",
    "hot_df_melted = hot_df.melt(id_vars=['지역'], var_name='날짜', value_name='폭염발생')\n",
    "\n",
    "for df in [price_df, weather_df, trade_df]:\n",
    "    df['날짜'] = pd.to_datetime(df['날짜'], errors='coerce').dt.strftime('%Y-%m')\n",
    "\n",
    "merged_df = pd.merge(price_df, weather_df, on=['지역', '날짜'], how='left')\n",
    "merged_df = pd.merge(merged_df, cold_df_melted, on=['지역', '날짜'], how='left')\n",
    "merged_df = pd.merge(merged_df, wind_df_melted, on=['지역', '날짜'], how='left')\n",
    "merged_df = pd.merge(merged_df, hot_df_melted, on=['지역', '날짜'], how='left')\n",
    "merged_df = pd.merge(merged_df, trade_df, on=['품목', '날짜'], how='left')\n",
    "\n",
    "print('데이터 병합 완료.')"
   ]
  },
  {
   "cell_type": "markdown",
   "metadata": {},
   "source": [
    "### 4. 특성 공학 (시차, 시간 변수)"
   ]
  },
  {
   "cell_type": "code",
   "execution_count": 4,
   "metadata": {},
   "outputs": [
    {
     "name": "stdout",
     "output_type": "stream",
     "text": [
      "시차 및 시간 특성 생성 완료.\n"
     ]
    }
   ],
   "source": [
    "merged_df['날짜'] = pd.to_datetime(merged_df['날짜'])\n",
    "merged_df['연도'] = merged_df['날짜'].dt.year\n",
    "merged_df['월'] = merged_df['날짜'].dt.month\n",
    "\n",
    "merged_df.sort_values(by=['지역', '품목', '날짜'], inplace=True)\n",
    "\n",
    "merged_df['가격_시차1'] = merged_df.groupby(['지역', '품목'])['평균가격'].shift(1)\n",
    "\n",
    "print('시차 및 시간 특성 생성 완료.')"
   ]
  },
  {
   "cell_type": "code",
   "execution_count": 13,
   "metadata": {},
   "outputs": [
    {
     "data": {
      "text/plain": [
       "count      8767.000000\n",
       "mean      18613.527182\n",
       "std       12823.793336\n",
       "min           0.000000\n",
       "25%        9120.904062\n",
       "50%       15410.539139\n",
       "75%       24757.844756\n",
       "max      124917.142857\n",
       "Name: 가격_시차1, dtype: float64"
      ]
     },
     "execution_count": 13,
     "metadata": {},
     "output_type": "execute_result"
    }
   ],
   "source": [
    "merged_df['가격_시차1'].describe()"
   ]
  },
  {
   "cell_type": "markdown",
   "metadata": {},
   "source": [
    "### 5. 결측치 처리 및 최종 데이터셋 정제"
   ]
  },
  {
   "cell_type": "code",
   "execution_count": 30,
   "metadata": {},
   "outputs": [
    {
     "name": "stdout",
     "output_type": "stream",
     "text": [
      "결측치 처리 완료.\n"
     ]
    }
   ],
   "source": [
    "merged_df.dropna(subset=['평균가격', '가격_시차1'], inplace=True)\n",
    "merged_df = merged_df[merged_df['평균가격'] > 0].copy()\n",
    "\n",
    "merged_df.fillna(0, inplace=True)\n",
    "\n",
    "print('결측치 처리 완료.')"
   ]
  },
  {
   "cell_type": "markdown",
   "metadata": {},
   "source": [
    "### 6. 원-핫 인코딩"
   ]
  },
  {
   "cell_type": "code",
   "execution_count": 31,
   "metadata": {},
   "outputs": [
    {
     "name": "stdout",
     "output_type": "stream",
     "text": [
      "원-핫 인코딩 적용 완료.\n",
      "<class 'pandas.core.frame.DataFrame'>\n",
      "Index: 8765 entries, 163 to 8969\n",
      "Data columns (total 33 columns):\n",
      " #   Column              Non-Null Count  Dtype         \n",
      "---  ------              --------------  -----         \n",
      " 0   날짜                  8765 non-null   datetime64[ns]\n",
      " 1   품목                  8765 non-null   object        \n",
      " 2   평균가격                8765 non-null   float64       \n",
      " 3   총거래물량               8765 non-null   float64       \n",
      " 4   평균기온(°C)            8765 non-null   float64       \n",
      " 5   월합강수량(00~24h만)(mm)  8765 non-null   float64       \n",
      " 6   평균풍속(m/s)           8765 non-null   float64       \n",
      " 7   최심적설(cm)            8765 non-null   float64       \n",
      " 8   한파발생                8765 non-null   float64       \n",
      " 9   태풍발생                8765 non-null   float64       \n",
      " 10  폭염발생                8765 non-null   float64       \n",
      " 11  수입중량                8765 non-null   float64       \n",
      " 12  수출중량                8765 non-null   float64       \n",
      " 13  연도                  8765 non-null   float64       \n",
      " 14  월                   8765 non-null   float64       \n",
      " 15  가격_시차1              8765 non-null   float64       \n",
      " 16  지역_경기도              8765 non-null   bool          \n",
      " 17  지역_경상남도             8765 non-null   bool          \n",
      " 18  지역_경상북도             8765 non-null   bool          \n",
      " 19  지역_광주광역시            8765 non-null   bool          \n",
      " 20  지역_대구광역시            8765 non-null   bool          \n",
      " 21  지역_대전광역시            8765 non-null   bool          \n",
      " 22  지역_부산광역시            8765 non-null   bool          \n",
      " 23  지역_서울특별시            8765 non-null   bool          \n",
      " 24  지역_세종시              8765 non-null   bool          \n",
      " 25  지역_울산광역시            8765 non-null   bool          \n",
      " 26  지역_인천광역시            8765 non-null   bool          \n",
      " 27  지역_전라남도             8765 non-null   bool          \n",
      " 28  지역_전라북도             8765 non-null   bool          \n",
      " 29  지역_제주도              8765 non-null   bool          \n",
      " 30  지역_제주특별자치도          8765 non-null   bool          \n",
      " 31  지역_충청남도             8765 non-null   bool          \n",
      " 32  지역_충청북도             8765 non-null   bool          \n",
      "dtypes: bool(17), datetime64[ns](1), float64(14), object(1)\n",
      "memory usage: 1.3+ MB\n"
     ]
    }
   ],
   "source": [
    "final_df = pd.get_dummies(merged_df, columns=['지역'], prefix='지역', drop_first=True)\n",
    "\n",
    "print('원-핫 인코딩 적용 완료.')\n",
    "\n",
    "final_df.info()"
   ]
  },
  {
   "cell_type": "markdown",
   "metadata": {},
   "source": [
    "### 7. 모델 학습 및 평가 함수 정의"
   ]
  },
  {
   "cell_type": "code",
   "execution_count": 32,
   "metadata": {},
   "outputs": [],
   "source": [
    "def train_optimized_model(df, vegetable_name):\n",
    "    target_df = df[df['품목'] == vegetable_name].copy()\n",
    "    base_features = ['평균기온(°C)', '월합강수량(00~24h만)(mm)', '평균풍속(m/s)', '최심적설(cm)', '한파발생', '태풍발생', '폭염발생', '연도', '월', '수출중량', '수입중량', '가격_시차1']\n",
    "    region_features = [col for col in target_df.columns if col.startswith('지역_')]\n",
    "    features = base_features + region_features\n",
    "    \n",
    "    target = '평균가격'\n",
    "    \n",
    "    X_train, X_test, y_train, y_test = train_test_split(target_df[features], target_df[target], test_size=0.2, random_state=42)\n",
    "\n",
    "    estimators = [('rf', RandomForestRegressor(random_state=42)), ('xgb', XGBRegressor(random_state=42)), ('lgbm', LGBMRegressor(random_state=42, verbose=-1))]\n",
    "    stacking_reg = StackingRegressor(estimators=estimators, final_estimator=Ridge(alpha=1.0), cv=5)\n",
    "\n",
    "    params = {'rf__n_estimators': [100, 200], 'xgb__n_estimators': [100, 200], 'lgbm__n_estimators': [100, 200]}\n",
    "\n",
    "    print(f'--- {vegetable_name} 최종 최적화 모델 튜닝 시작 ---')\n",
    "    grid_search = GridSearchCV(estimator=stacking_reg, param_grid=params, cv=3, n_jobs=-1, scoring='r2', verbose=2)\n",
    "    grid_search.fit(X_train, y_train)\n",
    "\n",
    "    y_pred = grid_search.predict(X_test)\n",
    "    mae = mean_absolute_error(y_test, y_pred)\n",
    "    mse = mean_squared_error(y_test, y_pred)\n",
    "    rmse = np.sqrt(mse)\n",
    "    r2 = r2_score(y_test, y_pred)\n",
    "\n",
    "    print(f'--- {vegetable_name} 최종 최적화 모델 평가 결과 ---')\n",
    "    print(f'MAE: {mae:.4f}')\n",
    "    print(f'MSE: {mse:.4f}')\n",
    "    print(f'RMSE: {rmse:.4f}')\n",
    "    print(f'R-squared: {r2:.4f}')\n",
    "    print(f'Best Hyperparameters: {grid_search.best_params_}')\n",
    "    print('-'*80)"
   ]
  },
  {
   "cell_type": "markdown",
   "metadata": {},
   "source": [
    "### 8. 모델 학습 실행"
   ]
  },
  {
   "cell_type": "code",
   "execution_count": 33,
   "metadata": {},
   "outputs": [
    {
     "name": "stdout",
     "output_type": "stream",
     "text": [
      "--- 시금치 최종 최적화 모델 튜닝 시작 ---\n",
      "Fitting 3 folds for each of 8 candidates, totalling 24 fits\n",
      "--- 시금치 최종 최적화 모델 평가 결과 ---\n",
      "MAE: 1940.9941\n",
      "MSE: 9953642.8815\n",
      "RMSE: 3154.9394\n",
      "R-squared: 0.9178\n",
      "Best Hyperparameters: {'lgbm__n_estimators': 200, 'rf__n_estimators': 200, 'xgb__n_estimators': 100}\n",
      "--------------------------------------------------------------------------------\n",
      "--- 오이 최종 최적화 모델 튜닝 시작 ---\n",
      "Fitting 3 folds for each of 8 candidates, totalling 24 fits\n",
      "--- 오이 최종 최적화 모델 평가 결과 ---\n",
      "MAE: 2071.1861\n",
      "MSE: 8507423.1140\n",
      "RMSE: 2916.7487\n",
      "R-squared: 0.9017\n",
      "Best Hyperparameters: {'lgbm__n_estimators': 100, 'rf__n_estimators': 200, 'xgb__n_estimators': 200}\n",
      "--------------------------------------------------------------------------------\n"
     ]
    }
   ],
   "source": [
    "train_optimized_model(final_df, '시금치')\n",
    "train_optimized_model(final_df, '오이')"
   ]
  }
 ],
 "metadata": {
  "kernelspec": {
   "display_name": "ml_env",
   "language": "python",
   "name": "python3"
  },
  "language_info": {
   "codemirror_mode": {
    "name": "ipython",
    "version": 3
   },
   "file_extension": ".py",
   "mimetype": "text/x-python",
   "name": "python",
   "nbconvert_exporter": "python",
   "pygments_lexer": "ipython3",
   "version": "3.12.11"
  }
 },
 "nbformat": 4,
 "nbformat_minor": 4
}
