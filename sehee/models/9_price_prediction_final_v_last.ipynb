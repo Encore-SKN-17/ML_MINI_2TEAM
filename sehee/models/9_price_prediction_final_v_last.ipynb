{
 "cells": [
  {
   "cell_type": "markdown",
   "metadata": {},
   "source": [
    "# 최종 가격 예측 모델 (Label Encoding 적용)\n",
    "*원-핫 인코딩 대신 Label Encoding을 적용하고, 시차 특성과 스태킹 앙상블을 사용하여 예측 성능을 최적화합니다.*"
   ]
  },
  {
   "cell_type": "markdown",
   "metadata": {},
   "source": [
    "### 1. 라이브러리 임포트"
   ]
  },
  {
   "cell_type": "code",
   "execution_count": 1,
   "metadata": {},
   "outputs": [],
   "source": [
    "import pandas as pd\n",
    "import numpy as np\n",
    "from sklearn.model_selection import train_test_split, GridSearchCV\n",
    "from sklearn.linear_model import Ridge\n",
    "from sklearn.ensemble import RandomForestRegressor, StackingRegressor\n",
    "from xgboost import XGBRegressor\n",
    "from lightgbm import LGBMRegressor\n",
    "from sklearn.metrics import mean_absolute_error, mean_squared_error, r2_score\n",
    "import warnings\n",
    "\n",
    "warnings.filterwarnings('ignore')"
   ]
  },
  {
   "cell_type": "markdown",
   "metadata": {},
   "source": [
    "### 2. 데이터 로드"
   ]
  },
  {
   "cell_type": "code",
   "execution_count": null,
   "metadata": {},
   "outputs": [
    {
     "name": "stdout",
     "output_type": "stream",
     "text": [
      "데이터 로드 완료.\n"
     ]
    }
   ],
   "source": [
    "cold_df = pd.read_excel('../data/mon_cold.xlsx')\n",
    "wind_df = pd.read_excel('../data/mon_wind.xlsx')\n",
    "hot_df = pd.read_excel('../data/mon_hot.xlsx')\n",
    "price_df = pd.read_excel('../data/region_price.xlsx')\n",
    "weather_df = pd.read_csv('../data/region_weather.csv')\n",
    "trade_df = pd.read_excel('../data/spinach_cucumber_df.xlsx')\n",
    "print('데이터 로드 완료.')"
   ]
  },
  {
   "cell_type": "markdown",
   "metadata": {},
   "source": [
    "### 3. 데이터 전처리 및 병합"
   ]
  },
  {
   "cell_type": "code",
   "execution_count": 3,
   "metadata": {},
   "outputs": [
    {
     "name": "stdout",
     "output_type": "stream",
     "text": [
      "데이터 병합 완료.\n"
     ]
    }
   ],
   "source": [
    "cold_df_melted = cold_df.melt(id_vars=['지역'], var_name='날짜', value_name='한파발생')\n",
    "wind_df_melted = wind_df.melt(id_vars=['지역'], var_name='날짜', value_name='태풍발생')\n",
    "hot_df_melted = hot_df.melt(id_vars=['지역'], var_name='날짜', value_name='폭염발생')\n",
    "for df in [price_df, weather_df, trade_df]:\n",
    "    df['날짜'] = pd.to_datetime(df['날짜'], errors='coerce').dt.strftime('%Y-%m')\n",
    "merged_df = pd.merge(price_df, weather_df, on=['지역', '날짜'], how='left')\n",
    "merged_df = pd.merge(merged_df, cold_df_melted, on=['지역', '날짜'], how='left')\n",
    "merged_df = pd.merge(merged_df, wind_df_melted, on=['지역', '날짜'], how='left')\n",
    "merged_df = pd.merge(merged_df, hot_df_melted, on=['지역', '날짜'], how='left')\n",
    "merged_df = pd.merge(merged_df, trade_df, on=['품목', '날짜'], how='left')\n",
    "print('데이터 병합 완료.')"
   ]
  },
  {
   "cell_type": "markdown",
   "metadata": {},
   "source": [
    "### 4. 특성 공학 (시차, 시간 변수, Label Encoding)"
   ]
  },
  {
   "cell_type": "code",
   "execution_count": 4,
   "metadata": {},
   "outputs": [
    {
     "name": "stdout",
     "output_type": "stream",
     "text": [
      "특성 공학 적용 완료.\n"
     ]
    }
   ],
   "source": [
    "merged_df['날짜'] = pd.to_datetime(merged_df['날짜'])\n",
    "merged_df['연도'] = merged_df['날짜'].dt.year\n",
    "merged_df['월'] = merged_df['날짜'].dt.month\n",
    "merged_df.sort_values(by=['지역', '품목', '날짜'], inplace=True)\n",
    "merged_df['가격_시차1'] = merged_df.groupby(['지역', '품목'])['평균가격'].shift(1)\n",
    "\n",
    "# **Label Encoding 적용**\n",
    "merged_df['지역'] = merged_df['지역'].astype('category').cat.codes\n",
    "print('특성 공학 적용 완료.')"
   ]
  },
  {
   "cell_type": "markdown",
   "metadata": {},
   "source": [
    "### 5. 결측치 처리 및 최종 데이터셋 정제"
   ]
  },
  {
   "cell_type": "code",
   "execution_count": 5,
   "metadata": {},
   "outputs": [
    {
     "name": "stdout",
     "output_type": "stream",
     "text": [
      "결측치 처리 완료.\n",
      "<class 'pandas.core.frame.DataFrame'>\n",
      "Index: 8765 entries, 163 to 8969\n",
      "Data columns (total 17 columns):\n",
      " #   Column              Non-Null Count  Dtype         \n",
      "---  ------              --------------  -----         \n",
      " 0   지역                  8765 non-null   int8          \n",
      " 1   날짜                  8765 non-null   datetime64[ns]\n",
      " 2   품목                  8765 non-null   object        \n",
      " 3   평균가격                8765 non-null   float64       \n",
      " 4   총거래물량               8765 non-null   float64       \n",
      " 5   평균기온(°C)            8765 non-null   float64       \n",
      " 6   월합강수량(00~24h만)(mm)  8765 non-null   float64       \n",
      " 7   평균풍속(m/s)           8765 non-null   float64       \n",
      " 8   최심적설(cm)            8765 non-null   float64       \n",
      " 9   한파발생                8765 non-null   float64       \n",
      " 10  태풍발생                8765 non-null   float64       \n",
      " 11  폭염발생                8765 non-null   float64       \n",
      " 12  수입중량                8765 non-null   float64       \n",
      " 13  수출중량                8765 non-null   float64       \n",
      " 14  연도                  8765 non-null   float64       \n",
      " 15  월                   8765 non-null   float64       \n",
      " 16  가격_시차1              8765 non-null   float64       \n",
      "dtypes: datetime64[ns](1), float64(14), int8(1), object(1)\n",
      "memory usage: 1.1+ MB\n"
     ]
    }
   ],
   "source": [
    "merged_df.dropna(subset=['평균가격', '가격_시차1'], inplace=True)\n",
    "merged_df = merged_df[merged_df['평균가격'] > 0].copy()\n",
    "merged_df.fillna(0, inplace=True)\n",
    "final_df = merged_df\n",
    "print('결측치 처리 완료.')\n",
    "final_df.info()"
   ]
  },
  {
   "cell_type": "markdown",
   "metadata": {},
   "source": [
    "### 6. 모델 학습 및 평가 함수 정의"
   ]
  },
  {
   "cell_type": "code",
   "execution_count": 6,
   "metadata": {},
   "outputs": [],
   "source": [
    "def train_optimized_model(df, vegetable_name):\n",
    "    target_df = df[df['품목'] == vegetable_name].copy()\n",
    "\n",
    "    # **Label Encoding된 '지역' 특성을 바로 사용**\n",
    "    features = ['평균기온(°C)', '월합강수량(00~24h만)(mm)', '평균풍속(m/s)', '최심적설(cm)', '한파발생', '태풍발생', '폭염발생', '지역', '연도', '월', '수출중량', '수입중량', '가격_시차1']\n",
    "    target = '평균가격'\n",
    "    X_train, X_test, y_train, y_test = train_test_split(target_df[features], target_df[target], test_size=0.2, random_state=42)\n",
    "\n",
    "    estimators = [('rf', RandomForestRegressor(random_state=42)), ('xgb', XGBRegressor(random_state=42)), ('lgbm', LGBMRegressor(random_state=42, verbose=-1))]\n",
    "    stacking_reg = StackingRegressor(estimators=estimators, final_estimator=Ridge(alpha=1.0), cv=5)\n",
    "\n",
    "    params = {'rf__n_estimators': [100, 200], 'xgb__n_estimators': [100, 200], 'lgbm__n_estimators': [100, 200]}\n",
    "\n",
    "    print(f'--- {vegetable_name} 최종 최적화 모델 튜닝 시작 ---')\n",
    "    grid_search = GridSearchCV(estimator=stacking_reg, param_grid=params, cv=3, n_jobs=-1, scoring='r2', verbose=2)\n",
    "    grid_search.fit(X_train, y_train)\n",
    "\n",
    "    y_pred = grid_search.predict(X_test)\n",
    "    mae = mean_absolute_error(y_test, y_pred)\n",
    "    mse = mean_squared_error(y_test, y_pred)\n",
    "    rmse = np.sqrt(mse)\n",
    "    r2 = r2_score(y_test, y_pred)\n",
    "\n",
    "    print(f'--- {vegetable_name} 최종 최적화 모델 평가 결과 ---')\n",
    "    print(f'MAE: {mae:.4f}')\n",
    "    print(f'MSE: {mse:.4f}')\n",
    "    print(f'RMSE: {rmse:.4f}')\n",
    "    print(f'R-squared: {r2:.4f}')\n",
    "    print(f'Best Hyperparameters: {grid_search.best_params_}')\n",
    "    print('-'*80)"
   ]
  },
  {
   "cell_type": "markdown",
   "metadata": {},
   "source": [
    "### 7. 모델 학습 실행"
   ]
  },
  {
   "cell_type": "code",
   "execution_count": 7,
   "metadata": {},
   "outputs": [
    {
     "name": "stdout",
     "output_type": "stream",
     "text": [
      "--- 시금치 최종 최적화 모델 튜닝 시작 ---\n",
      "Fitting 3 folds for each of 8 candidates, totalling 24 fits\n",
      "--- 시금치 최종 최적화 모델 평가 결과 ---\n",
      "MAE: 1951.4320\n",
      "MSE: 11290314.8401\n",
      "RMSE: 3360.1064\n",
      "R-squared: 0.9067\n",
      "Best Hyperparameters: {'lgbm__n_estimators': 100, 'rf__n_estimators': 100, 'xgb__n_estimators': 100}\n",
      "--------------------------------------------------------------------------------\n",
      "--- 오이 최종 최적화 모델 튜닝 시작 ---\n",
      "Fitting 3 folds for each of 8 candidates, totalling 24 fits\n",
      "--- 오이 최종 최적화 모델 평가 결과 ---\n",
      "MAE: 2184.2696\n",
      "MSE: 9282617.1765\n",
      "RMSE: 3046.7388\n",
      "R-squared: 0.8927\n",
      "Best Hyperparameters: {'lgbm__n_estimators': 100, 'rf__n_estimators': 200, 'xgb__n_estimators': 200}\n",
      "--------------------------------------------------------------------------------\n"
     ]
    }
   ],
   "source": [
    "train_optimized_model(final_df, '시금치')\n",
    "train_optimized_model(final_df, '오이')"
   ]
  }
 ],
 "metadata": {
  "kernelspec": {
   "display_name": "ml_env",
   "language": "python",
   "name": "python3"
  },
  "language_info": {
   "codemirror_mode": {
    "name": "ipython",
    "version": 3
   },
   "file_extension": ".py",
   "mimetype": "text/x-python",
   "name": "python",
   "nbconvert_exporter": "python",
   "pygments_lexer": "ipython3",
   "version": "3.12.11"
  }
 },
 "nbformat": 4,
 "nbformat_minor": 4
}
