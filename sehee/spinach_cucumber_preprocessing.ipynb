{
 "cells": [
  {
   "cell_type": "markdown",
   "metadata": {},
   "source": [
    "# 필요 라이브러리 설치 & 임포트"
   ]
  },
  {
   "cell_type": "code",
   "execution_count": 151,
   "metadata": {},
   "outputs": [
    {
     "name": "stdout",
     "output_type": "stream",
     "text": [
      "Requirement already satisfied: openpyxl in /opt/anaconda3/envs/ml_env/lib/python3.12/site-packages (3.1.5)\n",
      "Requirement already satisfied: et-xmlfile in /opt/anaconda3/envs/ml_env/lib/python3.12/site-packages (from openpyxl) (2.0.0)\n"
     ]
    }
   ],
   "source": [
    "!pip install openpyxl"
   ]
  },
  {
   "cell_type": "code",
   "execution_count": 152,
   "metadata": {},
   "outputs": [],
   "source": [
    "import numpy as np\n",
    "import pandas as pd"
   ]
  },
  {
   "cell_type": "markdown",
   "metadata": {},
   "source": [
    "# 전처리"
   ]
  },
  {
   "cell_type": "markdown",
   "metadata": {},
   "source": [
    "### 시금치 수입/수출 병합"
   ]
  },
  {
   "cell_type": "code",
   "execution_count": 153,
   "metadata": {},
   "outputs": [],
   "source": [
    "spinach_import = pd.read_excel('/Users/woojin/Desktop/SK Networks Family AI Camp_17/2DA/data/시금치_수입.xlsx')\n",
    "spinach_export = pd.read_excel('/Users/woojin/Desktop/SK Networks Family AI Camp_17/2DA/data/시금치_수출.xlsx')\n",
    "\n",
    "spinach_import = spinach_import.drop(['AGCODE', 'HSCODE', '금액', '국가명', '구분'], axis=1).reset_index(drop=True)\n",
    "spinach_export = spinach_export.drop(['AGCODE', 'HSCODE', '금액', '국가명', '구분'], axis=1).reset_index(drop=True)\n",
    "\n",
    "spinach_import.rename(columns={'DATE':'날짜', '품목명':'품목', '중량':'수입중량'}, inplace=True)\n",
    "spinach_export.rename(columns={'DATE':'날짜', '품목명':'품목', '중량':'수출중량'}, inplace=True)\n",
    "\n",
    "spinach_import = spinach_import.drop(spinach_import[spinach_import['수입중량'] == 0].index, axis=0).reset_index(drop=True)\n",
    "spinach_export = spinach_export.drop(spinach_export[spinach_export['수출중량'] == 0].index, axis=0).reset_index(drop=True)\n",
    "\n",
    "spinach_import['날짜'] = pd.to_datetime(spinach_import['날짜'], format='%Y%m').dt.strftime('%Y-%m')\n",
    "spinach_export['날짜'] = pd.to_datetime(spinach_export['날짜'], format='%Y%m').dt.strftime('%Y-%m')"
   ]
  },
  {
   "cell_type": "code",
   "execution_count": 154,
   "metadata": {},
   "outputs": [],
   "source": [
    "spinach_import_export = pd.concat([spinach_import, spinach_export], ignore_index=True)"
   ]
  },
  {
   "cell_type": "code",
   "execution_count": 155,
   "metadata": {},
   "outputs": [
    {
     "data": {
      "text/html": [
       "<div>\n",
       "<style scoped>\n",
       "    .dataframe tbody tr th:only-of-type {\n",
       "        vertical-align: middle;\n",
       "    }\n",
       "\n",
       "    .dataframe tbody tr th {\n",
       "        vertical-align: top;\n",
       "    }\n",
       "\n",
       "    .dataframe thead th {\n",
       "        text-align: right;\n",
       "    }\n",
       "</style>\n",
       "<table border=\"1\" class=\"dataframe\">\n",
       "  <thead>\n",
       "    <tr style=\"text-align: right;\">\n",
       "      <th></th>\n",
       "      <th>날짜</th>\n",
       "      <th>품목</th>\n",
       "      <th>수입중량</th>\n",
       "      <th>수출중량</th>\n",
       "    </tr>\n",
       "  </thead>\n",
       "  <tbody>\n",
       "    <tr>\n",
       "      <th>0</th>\n",
       "      <td>2021-01</td>\n",
       "      <td>시금치</td>\n",
       "      <td>134130.0</td>\n",
       "      <td>670.9</td>\n",
       "    </tr>\n",
       "    <tr>\n",
       "      <th>1</th>\n",
       "      <td>2021-02</td>\n",
       "      <td>시금치</td>\n",
       "      <td>173310.0</td>\n",
       "      <td>280.6</td>\n",
       "    </tr>\n",
       "    <tr>\n",
       "      <th>2</th>\n",
       "      <td>2021-03</td>\n",
       "      <td>시금치</td>\n",
       "      <td>283360.0</td>\n",
       "      <td>410.0</td>\n",
       "    </tr>\n",
       "    <tr>\n",
       "      <th>3</th>\n",
       "      <td>2021-04</td>\n",
       "      <td>시금치</td>\n",
       "      <td>587070.0</td>\n",
       "      <td>431.0</td>\n",
       "    </tr>\n",
       "    <tr>\n",
       "      <th>4</th>\n",
       "      <td>2021-05</td>\n",
       "      <td>시금치</td>\n",
       "      <td>284280.0</td>\n",
       "      <td>397.5</td>\n",
       "    </tr>\n",
       "  </tbody>\n",
       "</table>\n",
       "</div>"
      ],
      "text/plain": [
       "        날짜   품목      수입중량   수출중량\n",
       "0  2021-01  시금치  134130.0  670.9\n",
       "1  2021-02  시금치  173310.0  280.6\n",
       "2  2021-03  시금치  283360.0  410.0\n",
       "3  2021-04  시금치  587070.0  431.0\n",
       "4  2021-05  시금치  284280.0  397.5"
      ]
     },
     "execution_count": 155,
     "metadata": {},
     "output_type": "execute_result"
    }
   ],
   "source": [
    "spinach_import_export = spinach_import_export.groupby(['날짜', '품목']).sum().reset_index()\n",
    "spinach_import_export.head()"
   ]
  },
  {
   "cell_type": "code",
   "execution_count": 156,
   "metadata": {},
   "outputs": [],
   "source": [
    "spinach_import_export.to_excel('/Users/woojin/Desktop/SK Networks Family AI Camp_17/2DA/data/spinach_import_export.xlsx', index=False)"
   ]
  },
  {
   "cell_type": "markdown",
   "metadata": {},
   "source": [
    "### 오이 수입/수출 병합"
   ]
  },
  {
   "cell_type": "code",
   "execution_count": 157,
   "metadata": {},
   "outputs": [],
   "source": [
    "cucumber_import = pd.read_excel('/Users/woojin/Desktop/SK Networks Family AI Camp_17/2DA/data/오이_수입.xlsx')\n",
    "cucumber_export = pd.read_excel('/Users/woojin/Desktop/SK Networks Family AI Camp_17/2DA/data/오이_수출.xlsx')\n",
    "\n",
    "cucumber_import = cucumber_import.drop(['AGCODE', 'HSCODE', '금액', '국가명', '구분'], axis=1).reset_index(drop=True)\n",
    "cucumber_export = cucumber_export.drop(['AGCODE', 'HSCODE', '금액', '국가명', '구분'], axis=1).reset_index(drop=True)\n",
    "\n",
    "cucumber_import.rename(columns={'DATE':'날짜', '품목명':'품목', '중량':'수입중량'}, inplace=True)\n",
    "cucumber_export.rename(columns={'DATE':'날짜', '품목명':'품목', '중량':'수출중량'}, inplace=True)\n",
    "\n",
    "cucumber_import = cucumber_import.drop(cucumber_import[cucumber_import['수입중량'] == 0].index, axis=0).reset_index(drop=True)\n",
    "cucumber_export = cucumber_export.drop(cucumber_export[cucumber_export['수출중량'] == 0].index, axis=0).reset_index(drop=True)\n",
    "\n",
    "cucumber_import['날짜'] = pd.to_datetime(cucumber_import['날짜'], format='%Y%m').dt.strftime('%Y-%m')\n",
    "cucumber_export['날짜'] = pd.to_datetime(cucumber_export['날짜'], format='%Y%m').dt.strftime('%Y-%m')"
   ]
  },
  {
   "cell_type": "code",
   "execution_count": 158,
   "metadata": {},
   "outputs": [],
   "source": [
    "cucumber_import_export = pd.concat([cucumber_import, cucumber_export], ignore_index=True)"
   ]
  },
  {
   "cell_type": "code",
   "execution_count": 159,
   "metadata": {},
   "outputs": [
    {
     "data": {
      "text/html": [
       "<div>\n",
       "<style scoped>\n",
       "    .dataframe tbody tr th:only-of-type {\n",
       "        vertical-align: middle;\n",
       "    }\n",
       "\n",
       "    .dataframe tbody tr th {\n",
       "        vertical-align: top;\n",
       "    }\n",
       "\n",
       "    .dataframe thead th {\n",
       "        text-align: right;\n",
       "    }\n",
       "</style>\n",
       "<table border=\"1\" class=\"dataframe\">\n",
       "  <thead>\n",
       "    <tr style=\"text-align: right;\">\n",
       "      <th></th>\n",
       "      <th>날짜</th>\n",
       "      <th>품목</th>\n",
       "      <th>수입중량</th>\n",
       "      <th>수출중량</th>\n",
       "    </tr>\n",
       "  </thead>\n",
       "  <tbody>\n",
       "    <tr>\n",
       "      <th>0</th>\n",
       "      <td>2021-01</td>\n",
       "      <td>오이</td>\n",
       "      <td>1562911.32</td>\n",
       "      <td>13739.00</td>\n",
       "    </tr>\n",
       "    <tr>\n",
       "      <th>1</th>\n",
       "      <td>2021-02</td>\n",
       "      <td>오이</td>\n",
       "      <td>1174982.06</td>\n",
       "      <td>1934.70</td>\n",
       "    </tr>\n",
       "    <tr>\n",
       "      <th>2</th>\n",
       "      <td>2021-03</td>\n",
       "      <td>오이</td>\n",
       "      <td>1776273.30</td>\n",
       "      <td>9513.58</td>\n",
       "    </tr>\n",
       "    <tr>\n",
       "      <th>3</th>\n",
       "      <td>2021-04</td>\n",
       "      <td>오이</td>\n",
       "      <td>1664924.67</td>\n",
       "      <td>4950.02</td>\n",
       "    </tr>\n",
       "    <tr>\n",
       "      <th>4</th>\n",
       "      <td>2021-05</td>\n",
       "      <td>오이</td>\n",
       "      <td>1923347.66</td>\n",
       "      <td>130380.90</td>\n",
       "    </tr>\n",
       "  </tbody>\n",
       "</table>\n",
       "</div>"
      ],
      "text/plain": [
       "        날짜  품목        수입중량       수출중량\n",
       "0  2021-01  오이  1562911.32   13739.00\n",
       "1  2021-02  오이  1174982.06    1934.70\n",
       "2  2021-03  오이  1776273.30    9513.58\n",
       "3  2021-04  오이  1664924.67    4950.02\n",
       "4  2021-05  오이  1923347.66  130380.90"
      ]
     },
     "execution_count": 159,
     "metadata": {},
     "output_type": "execute_result"
    }
   ],
   "source": [
    "cucumber_import_export = cucumber_import_export.groupby(['날짜', '품목']).sum().reset_index()\n",
    "cucumber_import_export.head()"
   ]
  },
  {
   "cell_type": "code",
   "execution_count": 160,
   "metadata": {},
   "outputs": [],
   "source": [
    "cucumber_import_export.to_excel('/Users/woojin/Desktop/SK Networks Family AI Camp_17/2DA/data/cucumber_import_export.xlsx', index=False)"
   ]
  },
  {
   "cell_type": "markdown",
   "metadata": {},
   "source": [
    "### 시금치/오이 파일 병합"
   ]
  },
  {
   "cell_type": "code",
   "execution_count": 162,
   "metadata": {},
   "outputs": [
    {
     "data": {
      "text/html": [
       "<div>\n",
       "<style scoped>\n",
       "    .dataframe tbody tr th:only-of-type {\n",
       "        vertical-align: middle;\n",
       "    }\n",
       "\n",
       "    .dataframe tbody tr th {\n",
       "        vertical-align: top;\n",
       "    }\n",
       "\n",
       "    .dataframe thead th {\n",
       "        text-align: right;\n",
       "    }\n",
       "</style>\n",
       "<table border=\"1\" class=\"dataframe\">\n",
       "  <thead>\n",
       "    <tr style=\"text-align: right;\">\n",
       "      <th></th>\n",
       "      <th>날짜</th>\n",
       "      <th>품목</th>\n",
       "      <th>수입중량</th>\n",
       "      <th>수출중량</th>\n",
       "    </tr>\n",
       "  </thead>\n",
       "  <tbody>\n",
       "    <tr>\n",
       "      <th>103</th>\n",
       "      <td>2025-02</td>\n",
       "      <td>오이</td>\n",
       "      <td>1391995.00</td>\n",
       "      <td>12227.32</td>\n",
       "    </tr>\n",
       "    <tr>\n",
       "      <th>104</th>\n",
       "      <td>2025-03</td>\n",
       "      <td>오이</td>\n",
       "      <td>1547836.60</td>\n",
       "      <td>13364.16</td>\n",
       "    </tr>\n",
       "    <tr>\n",
       "      <th>105</th>\n",
       "      <td>2025-04</td>\n",
       "      <td>오이</td>\n",
       "      <td>1184961.57</td>\n",
       "      <td>33367.25</td>\n",
       "    </tr>\n",
       "    <tr>\n",
       "      <th>106</th>\n",
       "      <td>2025-05</td>\n",
       "      <td>오이</td>\n",
       "      <td>1442605.12</td>\n",
       "      <td>19292.31</td>\n",
       "    </tr>\n",
       "    <tr>\n",
       "      <th>107</th>\n",
       "      <td>2025-06</td>\n",
       "      <td>오이</td>\n",
       "      <td>1513866.60</td>\n",
       "      <td>13095.39</td>\n",
       "    </tr>\n",
       "  </tbody>\n",
       "</table>\n",
       "</div>"
      ],
      "text/plain": [
       "          날짜  품목        수입중량      수출중량\n",
       "103  2025-02  오이  1391995.00  12227.32\n",
       "104  2025-03  오이  1547836.60  13364.16\n",
       "105  2025-04  오이  1184961.57  33367.25\n",
       "106  2025-05  오이  1442605.12  19292.31\n",
       "107  2025-06  오이  1513866.60  13095.39"
      ]
     },
     "execution_count": 162,
     "metadata": {},
     "output_type": "execute_result"
    }
   ],
   "source": [
    "spinach_cucumber_df = pd.concat([spinach_import_export, cucumber_import_export], ignore_index=True)\n",
    "spinach_cucumber_df.tail()"
   ]
  },
  {
   "cell_type": "code",
   "execution_count": 163,
   "metadata": {},
   "outputs": [],
   "source": [
    "spinach_cucumber_df.to_excel('/Users/woojin/Desktop/SK Networks Family AI Camp_17/2DA/data/spinach_cucumber_df.xlsx', index=False)"
   ]
  },
  {
   "cell_type": "code",
   "execution_count": null,
   "metadata": {},
   "outputs": [],
   "source": []
  }
 ],
 "metadata": {
  "kernelspec": {
   "display_name": "ml_env",
   "language": "python",
   "name": "python3"
  },
  "language_info": {
   "codemirror_mode": {
    "name": "ipython",
    "version": 3
   },
   "file_extension": ".py",
   "mimetype": "text/x-python",
   "name": "python",
   "nbconvert_exporter": "python",
   "pygments_lexer": "ipython3",
   "version": "3.12.11"
  }
 },
 "nbformat": 4,
 "nbformat_minor": 2
}
