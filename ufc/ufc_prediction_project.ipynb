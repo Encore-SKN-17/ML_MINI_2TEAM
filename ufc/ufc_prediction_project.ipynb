{
 "cells": [
  {
   "cell_type": "markdown",
   "metadata": {},
   "source": [
    "# UFC 경기 승패 예측 (최종 오류 수정)"
   ]
  },
  {
   "cell_type": "markdown",
   "metadata": {},
   "source": [
    "## 1. 라이브러리 임포트 및 데이터 로드"
   ]
  },
  {
   "cell_type": "code",
   "execution_count": 331,
   "metadata": {},
   "outputs": [],
   "source": [
    "import pandas as pd\n",
    "import numpy as np\n",
    "import matplotlib.pyplot as plt\n",
    "import seaborn as sns\n",
    "from sklearn.model_selection import train_test_split, RandomizedSearchCV\n",
    "from sklearn.preprocessing import StandardScaler, OneHotEncoder\n",
    "from sklearn.compose import ColumnTransformer\n",
    "from sklearn.pipeline import Pipeline\n",
    "from sklearn.metrics import accuracy_score, classification_report, roc_auc_score\n",
    "from sklearn.ensemble import RandomForestClassifier, StackingClassifier\n",
    "from sklearn.linear_model import LogisticRegression\n",
    "import xgboost as xgb\n",
    "from lightgbm import LGBMClassifier\n",
    "from catboost import CatBoostClassifier\n",
    "\n",
    "import warnings\n",
    "warnings.filterwarnings('ignore')"
   ]
  },
  {
   "cell_type": "code",
   "execution_count": 332,
   "metadata": {},
   "outputs": [],
   "source": [
    "df_original = pd.read_csv('UFC.csv')\n",
    "# **[최종 오류 수정]** 모든 컬럼명을 소문자로 변환하고 양쪽 공백을 제거하여 컬럼명 오류를 원천 차단합니다.\n",
    "df_original.columns = [col.strip().lower() for col in df_original.columns]\n",
    "\n",
    "df = df_original.copy()"
   ]
  },
  {
   "cell_type": "markdown",
   "metadata": {},
   "source": [
    "## 2. 전처리 및 특성 공학"
   ]
  },
  {
   "cell_type": "code",
   "execution_count": 333,
   "metadata": {},
   "outputs": [],
   "source": [
    "# [전처리] 불필요 컬럼 제거 및 결측치 처리\n",
    "df.dropna(subset=['winner', 'r_dob', 'b_dob', 'r_stance', 'b_stance', 'r_height', 'b_height'], inplace=True)\n",
    "df['r_reach'].fillna(df['r_height'], inplace=True)\n",
    "df['b_reach'].fillna(df['b_height'], inplace=True)\n",
    "\n",
    "# [특성 공학] 타겟 변수 및 파생 변수 생성\n",
    "df['winner_is_red'] = (df['winner'] == df['r_name']).astype(int)\n",
    "df['r_dob'] = pd.to_datetime(df['r_dob'])\n",
    "df['b_dob'] = pd.to_datetime(df['b_dob'])\n",
    "df['r_age'] = (pd.to_datetime('today') - df['r_dob']).dt.days / 365.25\n",
    "df['b_age'] = (pd.to_datetime('today') - df['b_dob']).dt.days / 365.25\n",
    "df.drop(['r_dob', 'b_dob'], axis=1, inplace=True)\n",
    "\n",
    "# 차이 특성\n",
    "df['age_diff'] = df['r_age'] - df['b_age']\n",
    "df['height_diff'] = df['r_height'] - df['b_height']\n",
    "df['reach_diff'] = df['r_reach'] - df['b_reach']\n",
    "df['wins_diff'] = df['r_wins'] - df['b_wins']\n",
    "df['losses_diff'] = df['r_losses'] - df['b_losses']\n",
    "df['splm_diff'] = df['r_splm'] - df['b_splm']\n",
    "df['str_acc_diff'] = df['r_str_acc'] - df['b_str_acc']\n",
    "df['sapm_diff'] = df['r_sapm'] - df['b_sapm']\n",
    "df['str_def_diff'] = df['r_str_def'] - df['b_str_def']\n",
    "df['td_avg_diff'] = df['r_td_avg'] - df['b_td_avg']\n",
    "df['td_acc_diff'] = df['r_td_avg_acc'] - df['b_td_avg_acc']\n",
    "df['td_def_diff'] = df['r_td_def'] - df['b_td_def']\n",
    "df['sub_avg_diff'] = df['r_sub_avg'] - df['b_sub_avg']\n",
    "\n",
    "# 비율 및 복합 특성\n",
    "# ratio features (0~1 scaled)\n",
    "df['sig_str_ratio'] = df['r_splm'] / (df['r_splm'] + df['b_splm'] + 1e-6)\n",
    "df['td_ratio'] = df['r_td_avg'] / (df['r_td_avg'] + df['b_td_avg'] + 1e-6)\n",
    "df['str_acc_ratio'] = df['r_str_acc'] / (df['r_str_acc'] + df['b_str_acc'] + 1e-6)\n",
    "df['td_acc_ratio'] = df['r_td_avg_acc'] / (df['r_td_avg_acc'] + df['b_td_avg_acc'] + 1e-6)\n",
    "\n",
    "# win ratio features\n",
    "df['r_win_ratio'] = df['r_wins'] / (df['r_wins'] + df['r_losses'] + 1e-6)\n",
    "df['b_win_ratio'] = df['b_wins'] / (df['b_wins'] + df['b_losses'] + 1e-6)\n",
    "df['win_ratio_diff'] = df['r_win_ratio'] - df['b_win_ratio']\n",
    "\n",
    "# ---------- 추가 파생 특성 ----------\n",
    "# BMI\n",
    "df['r_bmi'] = df['r_weight'] / ((df['r_height'] / 100) ** 2 + 1e-6)\n",
    "df['b_bmi'] = df['b_weight'] / ((df['b_height'] / 100) ** 2 + 1e-6)\n",
    "df['bmi_diff'] = df['r_bmi'] - df['b_bmi']\n",
    "\n",
    "# Reach / Height 비율\n",
    "df['r_reach_ht_ratio'] = df['r_reach'] / (df['r_height'] + 1e-6)\n",
    "df['b_reach_ht_ratio'] = df['b_reach'] / (df['b_height'] + 1e-6)\n",
    "df['reach_ht_ratio_diff'] = df['r_reach_ht_ratio'] - df['b_reach_ht_ratio']\n",
    "\n",
    "\n",
    "# 총 경기 수\n",
    "df['r_total_fights'] = df['r_wins'] + df['r_losses']\n",
    "df['b_total_fights'] = df['b_wins'] + df['b_losses']\n",
    "df['total_fights_diff'] = df['r_total_fights'] - df['b_total_fights']\n",
    "\n",
    "# ---------- 추가 파생 특성 v3 ----------\n",
    "# 1) 공격 점수: Striking + Grappling 효율 합\n",
    "df['r_offense_score'] = df['r_str_eff'] + df['r_grap_eff'] if 'r_str_eff' in df.columns else \\\n",
    "                        (df['r_splm'] * df['r_str_acc']) + (df['r_td_avg'] * df['r_td_avg_acc'])\n",
    "df['b_offense_score'] = df['b_str_eff'] + df['b_grap_eff'] if 'b_str_eff' in df.columns else \\\n",
    "                        (df['b_splm'] * df['b_str_acc']) + (df['b_td_avg'] * df['b_td_avg_acc'])\n",
    "df['offense_score_diff'] = df['r_offense_score'] - df['b_offense_score']\n",
    "\n",
    "# 2) 방어 점수: 타격·테이크다운 방어율 평균\n",
    "df['r_defense_score'] = (df['r_str_def'] + df['r_td_def']) / 2\n",
    "df['b_defense_score'] = (df['b_str_def'] + df['b_td_def']) / 2\n",
    "df['defense_score_diff'] = df['r_defense_score'] - df['b_defense_score']\n",
    "\n",
    "# 3) 순공격 이득(Net Advantage) = 공격 diff + 방어 diff\n",
    "df['net_advantage'] = df['offense_score_diff'] + df['defense_score_diff']\n",
    "\n",
    "# 4) 상호작용 특성: 레드의 공격 vs 블루의 방어, 블루의 공격 vs 레드의 방어\n",
    "df['str_vs_def_diff'] = (df['r_str_acc'] * df['b_str_def']) - (df['b_str_acc'] * df['r_str_def'])\n",
    "\n",
    "# 5) 공격/방어 스코어 비율 차이\n",
    "df['off_def_ratio_diff'] = (df['r_offense_score'] / (df['r_defense_score'] + 1e-6)) - \\\n",
    "                           (df['b_offense_score'] / (df['b_defense_score'] + 1e-6))\n",
    "\n",
    "# 스탠스 조합 (범주형)\n",
    "df['stance_comb'] = df['r_stance'].astype(str) + '_' + df['b_stance'].astype(str)\n"
   ]
  },
  {
   "cell_type": "markdown",
   "metadata": {},
   "source": [
    "## 3. 모델링 준비 (모든 특성 사용)"
   ]
  },
  {
   "cell_type": "code",
   "execution_count": 334,
   "metadata": {},
   "outputs": [
    {
     "name": "stdout",
     "output_type": "stream",
     "text": [
      "사용된 총 특성 개수: 75\n"
     ]
    }
   ],
   "source": [
    "# 모든 생성된 특성 정의\n",
    "numerical_features = [col for col in df.columns if df[col].dtype != 'object' and col not in ['winner_is_red', 'winner']]\n",
    "categorical_features = ['r_stance', 'b_stance', 'stance_comb']\n",
    "\n",
    "# 최종 데이터셋 정의 및 분할\n",
    "X = df[numerical_features + categorical_features]\n",
    "y = df['winner_is_red']\n",
    "X_train, X_test, y_train, y_test = train_test_split(X, y, test_size=0.2, random_state=42, stratify=y)\n",
    "\n",
    "print(f'사용된 총 특성 개수: {X_train.shape[1]}')"
   ]
  },
  {
   "cell_type": "markdown",
   "metadata": {},
   "source": [
    "## 4. 스태킹 모델 하이퍼파라미터 튜닝"
   ]
  },
  {
   "cell_type": "code",
   "execution_count": 335,
   "metadata": {},
   "outputs": [
    {
     "name": "stdout",
     "output_type": "stream",
     "text": [
      "--- Stacking Model Hyperparameter Tuning ---\n",
      "Fitting 5 folds for each of 1 candidates, totalling 5 fits\n"
     ]
    },
    {
     "name": "stdout",
     "output_type": "stream",
     "text": [
      "Best ROC-AUC Score: 0.8118\n",
      "Best Parameters:\n",
      "{'classifier__xgb__n_estimators': 300, 'classifier__xgb__max_depth': 7, 'classifier__xgb__learning_rate': 0.05, 'classifier__rf__n_estimators': 200, 'classifier__rf__max_depth': 5, 'classifier__lgb__num_leaves': 20, 'classifier__lgb__n_estimators': 300, 'classifier__lgb__learning_rate': 0.01, 'classifier__final_estimator__C': 0.1}\n"
     ]
    }
   ],
   "source": [
    "# 전처리기 정의\n",
    "preprocessor = ColumnTransformer(\n",
    "    transformers=[\n",
    "        ('num', StandardScaler(), numerical_features),\n",
    "        ('cat', OneHotEncoder(handle_unknown='ignore', sparse_output=False), categorical_features)])\n",
    "\n",
    "# 클래스 불균형 처리 가중치\n",
    "scale_pos_weight = y_train.value_counts()[0] / y_train.value_counts()[1]\n",
    "\n",
    "# 스태킹 기본 모델 정의\n",
    "estimators = [\n",
    "    ('rf', RandomForestClassifier(random_state=42, class_weight='balanced')),\n",
    "    ('lgb', LGBMClassifier(random_state=42, class_weight='balanced', verbose=-1)),\n",
    "    ('xgb', xgb.XGBClassifier(random_state=42, use_label_encoder=False, eval_metric='logloss', scale_pos_weight=scale_pos_weight))\n",
    "]\n",
    "\n",
    "# 스태킹 모델 파이프라인 구축\n",
    "stacking_pipeline = Pipeline(steps=[('preprocessor', preprocessor), \n",
    "                                    ('classifier', StackingClassifier(estimators=estimators, final_estimator=LogisticRegression(), cv=5))])\n",
    "\n",
    "# 튜닝할 하이퍼파라미터 그리드 정의\n",
    "param_distributions = {\n",
    "    'classifier__rf__n_estimators': [200],\n",
    "    'classifier__rf__max_depth': [5],\n",
    "    'classifier__lgb__n_estimators': [300],\n",
    "    'classifier__lgb__learning_rate': [0.01],\n",
    "    'classifier__lgb__num_leaves': [20],\n",
    "    'classifier__xgb__n_estimators': [300],\n",
    "    'classifier__xgb__max_depth': [7],\n",
    "    'classifier__xgb__learning_rate': [0.05],\n",
    "    'classifier__final_estimator__C': [0.1]\n",
    "}\n",
    "\n",
    "# RandomizedSearchCV 실행\n",
    "search = RandomizedSearchCV(stacking_pipeline, param_distributions, n_iter=50, cv=5, scoring='roc_auc', n_jobs=-1, random_state=42, verbose=2)\n",
    "print(\"--- Stacking Model Hyperparameter Tuning ---\")\n",
    "search.fit(X_train, y_train)\n",
    "\n",
    "print(f'Best ROC-AUC Score: {search.best_score_:.4f}')\n",
    "print(\"Best Parameters:\")\n",
    "print(search.best_params_)"
   ]
  },
  {
   "cell_type": "markdown",
   "metadata": {},
   "source": [
    "## 5. 최종 모델 평가"
   ]
  },
  {
   "cell_type": "code",
   "execution_count": 336,
   "metadata": {},
   "outputs": [
    {
     "name": "stdout",
     "output_type": "stream",
     "text": [
      "--- Final Tuned Stacking Ensemble Model ---\n",
      "Accuracy: 0.7481\n",
      "ROC-AUC: 0.8163\n",
      "              precision    recall  f1-score   support\n",
      "\n",
      "           0       0.67      0.61      0.64       570\n",
      "           1       0.79      0.83      0.81      1002\n",
      "\n",
      "    accuracy                           0.75      1572\n",
      "   macro avg       0.73      0.72      0.72      1572\n",
      "weighted avg       0.74      0.75      0.75      1572\n",
      "\n"
     ]
    },
    {
     "data": {
      "image/png": "[encoded data removed]",
      "text/plain": [
       "<Figure size 640x480 with 2 Axes>"
      ]
     },
     "metadata": {},
     "output_type": "display_data"
    }
   ],
   "source": [
    "# 최적의 모델로 예측 및 평가\n",
    "best_stacking_model = search.best_estimator_\n",
    "\n",
    "probs_final = best_stacking_model.predict_proba(X_test)[:, 1]\n",
    "y_pred_final = (probs_final >= 0.5).astype(int)\n",
    "\n",
    "print('--- Final Tuned Stacking Ensemble Model ---')\n",
    "print(f'Accuracy: {accuracy_score(y_test, y_pred_final):.4f}')\n",
    "print(f'ROC-AUC: {roc_auc_score(y_test, probs_final):.4f}')\n",
    "print(classification_report(y_test, y_pred_final))\n",
    "\n",
    "# 혼동 행렬 시각화\n",
    "cm = confusion_matrix(y_test, y_pred_final)\n",
    "sns.heatmap(cm, annot=True, fmt='d', cmap='YlGnBu')\n",
    "plt.title('Final Stacking Model Confusion Matrix')\n",
    "plt.xlabel('Predicted')\n",
    "plt.ylabel('Actual')\n",
    "plt.show()"
   ]
  },
  {
   "cell_type": "markdown",
   "metadata": {},
   "source": [
    "## 6. 최종 모델을 활용한 승자 예측 (오류 수정 v2)"
   ]
  },
  {
   "cell_type": "code",
   "execution_count": 337,
   "metadata": {},
   "outputs": [
    {
     "name": "stdout",
     "output_type": "stream",
     "text": [
      "예측 중 오류가 발생했습니다: \"['title_fight', 'finish_round', 'match_time_sec', 'total_rounds'] not in index\"\n"
     ]
    }
   ],
   "source": [
    "import random\n",
    "import pandas as pd\n",
    "\n",
    "def get_fighter_stats(fighter_name, original_df):\n",
    "    # 선수의 최신 데이터를 가져옵니다.\n",
    "    if 'date' in original_df.columns:\n",
    "        original_df['date'] = pd.to_datetime(original_df['date'])\n",
    "        fighter_df = original_df[(original_df['r_name'] == fighter_name) | (original_df['b_name'] == fighter_name)].sort_values(by='date', ascending=False)\n",
    "    else:\n",
    "        # 날짜 정보가 없으면 마지막 경기를 특정할 수 없으므로 가장 최근 인덱스를 사용합니다.\n",
    "        fighter_df = original_df[(original_df['r_name'] == fighter_name) | (original_df['b_name'] == fighter_name)]\n",
    "\n",
    "    if fighter_df.empty:\n",
    "        return None\n",
    "    \n",
    "    latest_fight = fighter_df.iloc[0]\n",
    "    \n",
    "    # 해당 선수가 'r'이었는지 'b'이었는지 확인하여 통계를 추출합니다.\n",
    "    prefix = 'r_' if latest_fight['r_name'] == fighter_name else 'b_'\n",
    "    stats = {col.replace(prefix, ''): latest_fight[col] for col in latest_fight.index if col.startswith(prefix)}\n",
    "    return stats\n",
    "\n",
    "def predict_win_probability(fighter1_name, fighter2_name, original_df, model, X_cols):\n",
    "    # 1. 각 선수의 통계 가져오기\n",
    "    fighter1_stats = get_fighter_stats(fighter1_name, original_df)\n",
    "    fighter2_stats = get_fighter_stats(fighter2_name, original_df)\n",
    "\n",
    "    if fighter1_stats is None:\n",
    "        print(f'''Error: Fighter '{fighter1_name}' not found.''')\n",
    "        return\n",
    "    if fighter2_stats is None:\n",
    "        print(f'''Error: Fighter '{fighter2_name}' not found.''')\n",
    "        return\n",
    "\n",
    "    # 2. 예측을 위한 데이터프레임 생성\n",
    "    r_stats = {f'r_{key}': val for key, val in fighter1_stats.items()}\n",
    "    b_stats = {f'b_{key}': val for key, val in fighter2_stats.items()}\n",
    "    matchup_data = {**r_stats, **b_stats}\n",
    "    matchup_df = pd.DataFrame([matchup_data])\n",
    "\n",
    "    # [오류 수정] 모델 학습에 필요한 기본 스탯 컬럼이 누락된 경우 0으로 채웁니다.\n",
    "    base_columns = [\n",
    "        'r_height', 'r_reach', 'r_weight', 'r_dob', 'r_wins', 'r_losses', 'r_splm', 'r_str_acc', 'r_sapm', 'r_str_def', 'r_td_avg', 'r_td_avg_acc', 'r_td_def', 'r_sub_avg', 'r_stance',\n",
    "        'b_height', 'b_reach', 'b_weight', 'b_dob', 'b_wins', 'b_losses', 'b_splm', 'b_str_acc', 'b_sapm', 'b_str_def', 'b_td_avg', 'b_td_avg_acc', 'b_td_def', 'b_sub_avg', 'b_stance'\n",
    "    ]\n",
    "    for col in base_columns:\n",
    "        if col not in matchup_df.columns:\n",
    "            # DOB는 날짜 계산을 위해 유효한 날짜 문자열로, 나머지는 0.0으로 채웁니다.\n",
    "            if 'dob' in col:\n",
    "                matchup_df[col] = '1990-01-01' \n",
    "            elif 'stance' in col:\n",
    "                 matchup_df[col] = 'Orthodox' # 가장 흔한 스탠스로 채웁니다.\n",
    "            else:\n",
    "                matchup_df[col] = 0.0\n",
    "\n",
    "    # 3. 훈련 과정에서 생성된 모든 파생 변수 추가\n",
    "    for col in ['r_dob', 'b_dob']:\n",
    "        matchup_df[col] = pd.to_datetime(matchup_df[col])\n",
    "    matchup_df['r_age'] = (pd.to_datetime('today') - matchup_df['r_dob']).dt.days / 365.25\n",
    "    matchup_df['b_age'] = (pd.to_datetime('today') - matchup_df['b_dob']).dt.days / 365.25\n",
    "\n",
    "    matchup_df['r_reach'].fillna(matchup_df['r_height'], inplace=True)\n",
    "    matchup_df['b_reach'].fillna(matchup_df['b_height'], inplace=True)\n",
    "\n",
    "    diff_features = {\n",
    "        'age_diff': ('r_age', 'b_age'), 'height_diff': ('r_height', 'b_height'),\n",
    "        'reach_diff': ('r_reach', 'b_reach'), 'wins_diff': ('r_wins', 'b_wins'),\n",
    "        'losses_diff': ('r_losses', 'b_losses'), 'splm_diff': ('r_splm', 'b_splm'),\n",
    "        'str_acc_diff': ('r_str_acc', 'b_str_acc'), 'sapm_diff': ('r_sapm', 'b_sapm'),\n",
    "        'str_def_diff': ('r_str_def', 'b_str_def'), 'td_avg_diff': ('r_td_avg', 'b_td_avg'),\n",
    "        'td_acc_diff': ('r_td_avg_acc', 'b_td_avg_acc'), 'td_def_diff': ('r_td_def', 'b_td_def'),\n",
    "        'sub_avg_diff': ('r_sub_avg', 'b_sub_avg')\n",
    "    }\n",
    "    for new_feat, (r_feat, b_feat) in diff_features.items():\n",
    "        matchup_df[new_feat] = matchup_df[r_feat] - matchup_df[b_feat]\n",
    "\n",
    "    matchup_df['sig_str_ratio'] = matchup_df['r_splm'] / (matchup_df['r_splm'] + matchup_df['b_splm'] + 1e-6)\n",
    "    matchup_df['td_ratio'] = matchup_df['r_td_avg'] / (matchup_df['r_td_avg'] + matchup_df['b_td_avg'] + 1e-6)\n",
    "    matchup_df['str_acc_ratio'] = matchup_df['r_str_acc'] / (matchup_df['r_str_acc'] + matchup_df['b_str_acc'] + 1e-6)\n",
    "    matchup_df['td_acc_ratio'] = matchup_df['r_td_avg_acc'] / (matchup_df['r_td_avg_acc'] + matchup_df['b_td_avg_acc'] + 1e-6)\n",
    "    matchup_df['r_win_ratio'] = matchup_df['r_wins'] / (matchup_df['r_wins'] + matchup_df['r_losses'] + 1e-6)\n",
    "    matchup_df['b_win_ratio'] = matchup_df['b_wins'] / (matchup_df['b_wins'] + matchup_df['b_losses'] + 1e-6)\n",
    "    matchup_df['win_ratio_diff'] = matchup_df['r_win_ratio'] - matchup_df['b_win_ratio']\n",
    "    matchup_df['r_bmi'] = matchup_df['r_weight'] / ((matchup_df['r_height'] / 100) ** 2 + 1e-6)\n",
    "    matchup_df['b_bmi'] = matchup_df['b_weight'] / ((matchup_df['b_height'] / 100) ** 2 + 1e-6)\n",
    "    matchup_df['bmi_diff'] = matchup_df['r_bmi'] - matchup_df['b_bmi']\n",
    "    matchup_df['r_reach_ht_ratio'] = matchup_df['r_reach'] / (matchup_df['r_height'] + 1e-6)\n",
    "    matchup_df['b_reach_ht_ratio'] = matchup_df['b_reach'] / (matchup_df['b_height'] + 1e-6)\n",
    "    matchup_df['reach_ht_ratio_diff'] = matchup_df['r_reach_ht_ratio'] - matchup_df['b_reach_ht_ratio']\n",
    "    matchup_df['r_total_fights'] = matchup_df['r_wins'] + matchup_df['r_losses']\n",
    "    matchup_df['b_total_fights'] = matchup_df['b_wins'] + matchup_df['b_losses']\n",
    "    matchup_df['total_fights_diff'] = matchup_df['r_total_fights'] - matchup_df['b_total_fights']\n",
    "    matchup_df['r_offense_score'] = (matchup_df['r_splm'] * matchup_df['r_str_acc']) + (matchup_df['r_td_avg'] * matchup_df['r_td_avg_acc'])\n",
    "    matchup_df['b_offense_score'] = (matchup_df['b_splm'] * matchup_df['b_str_acc']) + (matchup_df['b_td_avg'] * matchup_df['b_td_avg_acc'])\n",
    "    matchup_df['offense_score_diff'] = matchup_df['r_offense_score'] - matchup_df['b_offense_score']\n",
    "    matchup_df['r_defense_score'] = (matchup_df['r_str_def'] + matchup_df['r_td_def']) / 2\n",
    "    matchup_df['b_defense_score'] = (matchup_df['b_str_def'] + matchup_df['b_td_def']) / 2\n",
    "    matchup_df['defense_score_diff'] = matchup_df['r_defense_score'] - matchup_df['b_defense_score']\n",
    "    matchup_df['net_advantage'] = matchup_df['offense_score_diff'] + matchup_df['defense_score_diff']\n",
    "    matchup_df['str_vs_def_diff'] = (matchup_df['r_str_acc'] * matchup_df['b_str_def']) - (matchup_df['b_str_acc'] * matchup_df['r_str_def'])\n",
    "    matchup_df['off_def_ratio_diff'] = (matchup_df['r_offense_score'] / (matchup_df['r_defense_score'] + 1e-6)) - (matchup_df['b_offense_score'] / (matchup_df['b_defense_score'] + 1e-6))\n",
    "    matchup_df['stance_comb'] = matchup_df['r_stance'].astype(str) + '_' + matchup_df['b_stance'].astype(str)\n",
    "\n",
    "    # 4. 모델이 학습한 특성 순서대로 정렬\n",
    "    matchup_df_final = matchup_df[X_cols]\n",
    "\n",
    "    # 5. 승리 확률 예측\n",
    "    win_prob = model.predict_proba(matchup_df_final)[0] # [P(Blue win), P(Red win)]\n",
    "\n",
    "    # 6. 결과 출력\n",
    "    print('='*50)\n",
    "    print(f'Matchup: {fighter1_name} (Red) vs. {fighter2_name} (Blue)')\n",
    "    print(f'>> {fighter1_name} (Red) Win Probability: {win_prob[1]*100:.2f}%')\n",
    "    print(f'>> {fighter2_name} (Blue) Win Probability: {win_prob[0]*100:.2f}%')\n",
    "    print('='*50)\n",
    "\n",
    "# --- 예측 실행 ---\n",
    "try:\n",
    "    # df_original에서 선수 목록을 가져옵니다.\n",
    "    all_fighters = pd.concat([df_original['r_name'], df_original['b_name']]).dropna().unique()\n",
    "\n",
    "    # 랜덤으로 두 명의 선수를 선택합니다.\n",
    "    random_fighters = random.sample(list(all_fighters), 2)\n",
    "    fighter1 = random_fighters[0]\n",
    "    fighter2 = random_fighters[1]\n",
    "\n",
    "    # 예측 함수 호출\n",
    "    # best_stacking_model과 X_train.columns는 이전 셀에서 생성되어야 합니다.\n",
    "    predict_win_probability(fighter1, fighter2, df_original, best_stacking_model, X_train.columns)\n",
    "\n",
    "    # 예시: 특정 선수들로 예측\n",
    "    predict_win_probability('Conor McGregor', 'Islam Makhachev', df_original, best_stacking_model, X_train.columns)\n",
    "except NameError as e:\n",
    "    print('---'*20)\n",
    "    print('모델 또는 데이터가 아직 준비되지 않았습니다.')\n",
    "    print('노트북의 모든 셀을 실행한 후 다시 시도해 주세요.')\n",
    "    print(f'(오류: {e})')\n",
    "    print('---'*20)\n",
    "except Exception as e:\n",
    "    print(f'예측 중 오류가 발생했습니다: {e}')"
   ]
  }
 ],
 "metadata": {
  "kernelspec": {
   "display_name": "Python 3",
   "language": "python",
   "name": "python3"
  },
  "language_info": {
   "codemirror_mode": {
    "name": "ipython",
    "version": 3
   },
   "file_extension": ".py",
   "mimetype": "text/x-python",
   "name": "python",
   "nbconvert_exporter": "python",
   "pygments_lexer": "ipython3",
   "version": "3.9.7"
  }
 },
 "nbformat": 4,
 "nbformat_minor": 4
}
