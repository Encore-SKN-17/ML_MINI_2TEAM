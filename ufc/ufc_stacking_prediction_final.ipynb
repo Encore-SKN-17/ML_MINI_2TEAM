{
 "cells": [
  {
   "cell_type": "markdown",
   "metadata": {},
   "source": [
    "# UFC 경기 승패 예측: 스태킹 모델 (최종 수정본)\n",
    "\n",
    "이 노트북은 UFC 경기 데이터를 사용하여 스태킹 모델을 구축하고, 두 선수 간의 승률을 예측합니다. 이전 버전의 모든 오류를 수정하고 코드의 안정성과 정확성을 높였습니다.\n",
    "\n",
    "**주요 개선 사항:**\n",
    "1. **정확한 데이터 처리**: 실제 CSV의 컬럼 구조에 맞춰 데이터를 로드하고, 컬럼명 처리 로직을 수정하여 데이터 왜곡을 방지했습니다.\n",
    "2. **완벽한 결측치 제어**: 선수별 스탯 DB를 만들기 전에 모든 결측치를 처리하여 `Null` 값 문제를 완전히 해결했습니다.\n",
    "3. **안정적인 특성 관리**: 학습과 예측에 사용되는 특성 목록을 일치시켜 `KeyError`를 원천적으로 차단했습니다."
   ]
  },
  {
   "cell_type": "markdown",
   "metadata": {},
   "source": [
    "## 1. 라이브러리 임포트 및 데이터 로드"
   ]
  },
  {
   "cell_type": "code",
   "execution_count": 124,
   "metadata": {},
   "outputs": [],
   "source": [
    "import pandas as pd\n",
    "import numpy as np\n",
    "import matplotlib.pyplot as plt\n",
    "import seaborn as sns\n",
    "from sklearn.model_selection import train_test_split\n",
    "from sklearn.preprocessing import StandardScaler\n",
    "from sklearn.ensemble import RandomForestClassifier, StackingClassifier, GradientBoostingClassifier\n",
    "from sklearn.linear_model import LogisticRegression\n",
    "from lightgbm import LGBMClassifier\n",
    "import xgboost as xgb\n",
    "from imblearn.pipeline import Pipeline as ImbPipeline\n",
    "from imblearn.over_sampling import BorderlineSMOTE # BorderlineSMOTE 임포트\n",
    "from sklearn.metrics import accuracy_score, roc_auc_score, classification_report, confusion_matrix\n",
    "from sklearn.model_selection import RandomizedSearchCV"
   ]
  },
  {
   "cell_type": "markdown",
   "metadata": {},
   "source": [
    "## 2. 데이터 클리닝 및 전처리"
   ]
  },
  {
   "cell_type": "code",
   "execution_count": 125,
   "metadata": {},
   "outputs": [
    {
     "name": "stdout",
     "output_type": "stream",
     "text": [
      "데이터 클리닝 및 전처리 완료\n"
     ]
    }
   ],
   "source": [
    "df = pd.read_csv('UFC.csv')\n",
    "\n",
    "# 1. 필수 컬럼 결측치 행 제거\n",
    "df.dropna(subset=['winner', 'r_dob', 'b_dob', 'r_height', 'b_height', 'r_weight', 'b_weight'], inplace=True)\n",
    "\n",
    "# 2. Reach 결측치를 Height로 대체\n",
    "df['r_reach'].fillna(df['r_height'], inplace=True)\n",
    "df['b_reach'].fillna(df['b_height'], inplace=True)\n",
    "\n",
    "# 3. 모든 수치형 컬럼의 나머지 결측치를 0으로 채우기\n",
    "numeric_cols = df.select_dtypes(include=np.number).columns.tolist()\n",
    "df[numeric_cols] = df[numeric_cols].fillna(0)\n",
    "\n",
    "# 4. 날짜 변환 및 나이 계산\n",
    "df['r_dob'] = pd.to_datetime(df['r_dob'])\n",
    "df['b_dob'] = pd.to_datetime(df['b_dob'])\n",
    "df['r_age'] = (pd.to_datetime('today') - df['r_dob']).dt.days / 365.25\n",
    "df['b_age'] = (pd.to_datetime('today') - df['b_dob']).dt.days / 365.25\n",
    "\n",
    "print('데이터 클리닝 및 전처리 완료')"
   ]
  },
  {
   "cell_type": "code",
   "execution_count": 126,
   "metadata": {},
   "outputs": [],
   "source": [
    "# 필요한 컬럼만 선택\n",
    "fighter_cols = ['wins', 'losses', 'draws', 'height', 'weight', 'reach', 'dob']\n",
    "r_cols = ['r_' + col for col in fighter_cols]\n",
    "b_cols = ['b_' + col for col in fighter_cols]\n",
    "stat_cols = ['splm', 'str_acc', 'sapm', 'str_def', 'td_avg', 'td_avg_acc', 'td_def', 'sub_avg']\n",
    "r_stat_cols = ['r_' + col for col in stat_cols]\n",
    "b_stat_cols = ['b_' + col for col in stat_cols]"
   ]
  },
  {
   "cell_type": "code",
   "execution_count": 127,
   "metadata": {},
   "outputs": [
    {
     "name": "stdout",
     "output_type": "stream",
     "text": [
      "<class 'pandas.core.frame.DataFrame'>\n",
      "Index: 7902 entries, 0 to 8237\n",
      "Data columns (total 36 columns):\n",
      " #   Column         Non-Null Count  Dtype         \n",
      "---  ------         --------------  -----         \n",
      " 0   r_name         7902 non-null   object        \n",
      " 1   r_wins         7902 non-null   int64         \n",
      " 2   r_losses       7902 non-null   int64         \n",
      " 3   r_draws        7902 non-null   int64         \n",
      " 4   r_height       7902 non-null   float64       \n",
      " 5   r_weight       7902 non-null   float64       \n",
      " 6   r_reach        7902 non-null   float64       \n",
      " 7   r_dob          7902 non-null   datetime64[ns]\n",
      " 8   r_splm         7902 non-null   float64       \n",
      " 9   r_str_acc      7902 non-null   int64         \n",
      " 10  r_sapm         7902 non-null   float64       \n",
      " 11  r_str_def      7902 non-null   int64         \n",
      " 12  r_td_avg       7902 non-null   float64       \n",
      " 13  r_td_avg_acc   7902 non-null   int64         \n",
      " 14  r_td_def       7902 non-null   int64         \n",
      " 15  r_sub_avg      7902 non-null   float64       \n",
      " 16  b_name         7902 non-null   object        \n",
      " 17  b_wins         7902 non-null   int64         \n",
      " 18  b_losses       7902 non-null   int64         \n",
      " 19  b_draws        7902 non-null   int64         \n",
      " 20  b_height       7902 non-null   float64       \n",
      " 21  b_weight       7902 non-null   float64       \n",
      " 22  b_reach        7902 non-null   float64       \n",
      " 23  b_dob          7902 non-null   datetime64[ns]\n",
      " 24  b_splm         7902 non-null   float64       \n",
      " 25  b_str_acc      7902 non-null   int64         \n",
      " 26  b_sapm         7902 non-null   float64       \n",
      " 27  b_str_def      7902 non-null   int64         \n",
      " 28  b_td_avg       7902 non-null   float64       \n",
      " 29  b_td_avg_acc   7902 non-null   int64         \n",
      " 30  b_td_def       7902 non-null   int64         \n",
      " 31  b_sub_avg      7902 non-null   float64       \n",
      " 32  winner         7902 non-null   object        \n",
      " 33  r_age          7902 non-null   float64       \n",
      " 34  b_age          7902 non-null   float64       \n",
      " 35  winner_is_red  7902 non-null   int64         \n",
      "dtypes: datetime64[ns](2), float64(16), int64(15), object(3)\n",
      "memory usage: 2.2+ MB\n"
     ]
    }
   ],
   "source": [
    "df_raw.info()"
   ]
  },
  {
   "cell_type": "markdown",
   "metadata": {},
   "source": [
    "## 3. 선수별 고유 스탯 데이터베이스 구축"
   ]
  },
  {
   "cell_type": "code",
   "execution_count": 128,
   "metadata": {},
   "outputs": [
    {
     "name": "stdout",
     "output_type": "stream",
     "text": [
      "선수별 고유 스탯 데이터베이스 생성 완료!\n",
      "<class 'pandas.core.frame.DataFrame'>\n",
      "Index: 2419 entries, Tofiq Musayev to Patrick Smith\n",
      "Data columns (total 16 columns):\n",
      " #   Column      Non-Null Count  Dtype         \n",
      "---  ------      --------------  -----         \n",
      " 0   wins        2419 non-null   int64         \n",
      " 1   losses      2419 non-null   int64         \n",
      " 2   draws       2419 non-null   int64         \n",
      " 3   height      2419 non-null   float64       \n",
      " 4   weight      2419 non-null   float64       \n",
      " 5   reach       2419 non-null   float64       \n",
      " 6   dob         2419 non-null   datetime64[ns]\n",
      " 7   splm        2419 non-null   float64       \n",
      " 8   str_acc     2419 non-null   int64         \n",
      " 9   sapm        2419 non-null   float64       \n",
      " 10  str_def     2419 non-null   int64         \n",
      " 11  td_avg      2419 non-null   float64       \n",
      " 12  td_avg_acc  2419 non-null   int64         \n",
      " 13  td_def      2419 non-null   int64         \n",
      " 14  sub_avg     2419 non-null   float64       \n",
      " 15  age         2419 non-null   float64       \n",
      "dtypes: datetime64[ns](1), float64(8), int64(7)\n",
      "memory usage: 321.3+ KB\n"
     ]
    }
   ],
   "source": [
    "# Red, Blue 선수 스탯을 각각 분리\n",
    "r_stats = df[[col for col in df.columns if col.startswith('r_')]].copy()\n",
    "b_stats = df[[col for col in df.columns if col.startswith('b_')]].copy()\n",
    "\n",
    "# 컬럼명에서 접두사('r_', 'b_')를 정확히 제거\n",
    "r_stats.columns = [col[2:] for col in r_stats.columns]\n",
    "b_stats.columns = [col[2:] for col in b_stats.columns]\n",
    "\n",
    "# 두 데이터프레임을 하나로 통합하고, 첫 등장 스탯만 사용\n",
    "all_fighters = pd.concat([r_stats, b_stats], ignore_index=True)\n",
    "unique_fighters = all_fighters.drop_duplicates(subset=['name'], keep='first')\n",
    "fighter_stats_df = unique_fighters.set_index('name')\n",
    "\n",
    "print('선수별 고유 스탯 데이터베이스 생성 완료!')\n",
    "fighter_stats_df.info()"
   ]
  },
  {
   "cell_type": "markdown",
   "metadata": {},
   "source": [
    "## 4. 특성 공학"
   ]
  },
  {
   "cell_type": "code",
   "execution_count": 129,
   "metadata": {},
   "outputs": [],
   "source": [
    "# [전처리] 불필요 컬럼 제거 및 결측치 처리\n",
    "df.dropna(subset=['winner', 'r_dob', 'b_dob', 'r_height', 'b_height', 'r_weight', 'b_weight'], inplace=True)\n",
    "df['r_reach'].fillna(df['r_height'], inplace=True)\n",
    "df['b_reach'].fillna(df['b_height'], inplace=True)\n",
    "\n",
    "# [특성 공학] 타겟 변수 및 파생 변수 생성\n",
    "df['winner_is_red'] = (df['winner'] == df['r_name']).astype(int)\n",
    "df['r_dob'] = pd.to_datetime(df['r_dob'])\n",
    "df['b_dob'] = pd.to_datetime(df['b_dob'])\n",
    "df['r_age'] = (pd.to_datetime('today') - df['r_dob']).dt.days / 365.25\n",
    "df['b_age'] = (pd.to_datetime('today') - df['b_dob']).dt.days / 365.25\n",
    "\n",
    "# 차이 특성\n",
    "df['age_diff'] = df['r_age'] - df['b_age']\n",
    "df['height_diff'] = df['r_height'] - df['b_height']\n",
    "df['weight_diff'] = df['r_weight'] - df['b_weight']\n",
    "df['reach_diff'] = df['r_reach'] - df['b_reach']\n",
    "df['wins_diff'] = df['r_wins'] - df['b_wins']\n",
    "df['losses_diff'] = df['r_losses'] - df['b_losses']\n",
    "df['splm_diff'] = df['r_splm'] - df['b_splm']\n",
    "df['str_acc_diff'] = df['r_str_acc'] - df['b_str_acc']\n",
    "df['sapm_diff'] = df['r_sapm'] - df['b_sapm']\n",
    "df['str_def_diff'] = df['r_str_def'] - df['b_str_def']\n",
    "df['td_avg_diff'] = df['r_td_avg'] - df['b_td_avg']\n",
    "df['td_avg_acc_diff'] = df['r_td_avg_acc'] - df['b_td_avg_acc']\n",
    "df['td_def_diff'] = df['r_td_def'] - df['b_td_def']\n",
    "df['sub_avg_diff'] = df['r_sub_avg'] - df['b_sub_avg']\n",
    "\n",
    "# 비율 및 복합 특성\n",
    "# ratio features (0~1 scaled)\n",
    "df['sig_str_ratio'] = df['r_splm'] / (df['r_splm'] + df['b_splm'] + 1e-6)\n",
    "df['td_ratio'] = df['r_td_avg'] / (df['r_td_avg'] + df['b_td_avg'] + 1e-6)\n",
    "df['str_acc_ratio'] = df['r_str_acc'] / (df['r_str_acc'] + df['b_str_acc'] + 1e-6)\n",
    "df['td_acc_ratio'] = df['r_td_avg_acc'] / (df['r_td_avg_acc'] + df['b_td_avg_acc'] + 1e-6)\n",
    "\n",
    "# win ratio features\n",
    "df['r_win_ratio'] = df['r_wins'] / (df['r_wins'] + df['r_losses'] + 1e-6)\n",
    "df['b_win_ratio'] = df['b_wins'] / (df['b_wins'] + df['b_losses'] + 1e-6)\n",
    "df['win_ratio_diff'] = df['r_win_ratio'] - df['b_win_ratio']\n",
    "\n",
    "# ---------- 추가 파생 특성 ----------\n",
    "# BMI\n",
    "df['r_bmi'] = df['r_weight'] / ((df['r_height'] / 100) ** 2 + 1e-6)\n",
    "df['b_bmi'] = df['b_weight'] / ((df['b_height'] / 100) ** 2 + 1e-6)\n",
    "df['bmi_diff'] = df['r_bmi'] - df['b_bmi']\n",
    "\n",
    "# 총 경기 수\n",
    "df['r_total_fights'] = df['r_wins'] + df['r_losses']\n",
    "df['b_total_fights'] = df['b_wins'] + df['b_losses']\n",
    "df['total_fights_diff'] = df['r_total_fights'] - df['b_total_fights']\n",
    "\n",
    "# ---------- 추가 파생 특성 v3 ----------\n",
    "# 1) 공격 점수: Striking + Grappling 효율 합\n",
    "df['r_offense_score'] = df['r_str_eff'] + df['r_grap_eff'] if 'r_str_eff' in df.columns else \\\n",
    "                        (df['r_splm'] * df['r_str_acc']) + (df['r_td_avg'] * df['r_td_avg_acc'])\n",
    "df['b_offense_score'] = df['b_str_eff'] + df['b_grap_eff'] if 'b_str_eff' in df.columns else \\\n",
    "                        (df['b_splm'] * df['b_str_acc']) + (df['b_td_avg'] * df['b_td_avg_acc'])\n",
    "df['offense_score_diff'] = df['r_offense_score'] - df['b_offense_score']\n",
    "\n",
    "# 2) 방어 점수: 타격·테이크다운 방어율 평균\n",
    "df['r_defense_score'] = (df['r_str_def'] + df['r_td_def']) / 2\n",
    "df['b_defense_score'] = (df['b_str_def'] + df['b_td_def']) / 2\n",
    "df['defense_score_diff'] = df['r_defense_score'] - df['b_defense_score']\n",
    "\n",
    "# 3) 순공격 이득(Net Advantage) = 공격 diff + 방어 diff\n",
    "df['net_advantage'] = df['offense_score_diff'] + df['defense_score_diff']\n",
    "\n",
    "# 4) 상호작용 특성: 레드의 공격 vs 블루의 방어, 블루의 공격 vs 레드의 방어\n",
    "df['str_vs_def_diff'] = (df['r_str_acc'] * df['b_str_def']) - (df['b_str_acc'] * df['r_str_def'])\n",
    "\n",
    "# 5) 공격/방어 스코어 비율 차이\n",
    "df['off_def_ratio_diff'] = (df['r_offense_score'] / (df['r_defense_score'] + 1e-6)) - \\\n",
    "                           (df['b_offense_score'] / (df['b_defense_score'] + 1e-6))\n"
   ]
  },
  {
   "cell_type": "code",
   "execution_count": 130,
   "metadata": {},
   "outputs": [
    {
     "data": {
      "text/plain": [
       "winner_is_red\n",
       "0    2860\n",
       "1    5042\n",
       "Name: winner_is_red, dtype: int64"
      ]
     },
     "execution_count": 130,
     "metadata": {},
     "output_type": "execute_result"
    }
   ],
   "source": [
    "df['winner_is_red'].groupby(df['winner_is_red']).count()"
   ]
  },
  {
   "cell_type": "markdown",
   "metadata": {},
   "source": [
    "## 5. 스태킹 모델 학습 및 평가"
   ]
  },
  {
   "cell_type": "code",
   "execution_count": 131,
   "metadata": {},
   "outputs": [],
   "source": [
    "# 학습에 사용할 최종 특성 리스트를 명확하게 정의\n",
    "final_features = [\n",
    "    'age_diff', 'height_diff', 'weight_diff', 'reach_diff', 'wins_diff', 'losses_diff',\n",
    "    'splm_diff', 'str_acc_diff', 'sapm_diff', 'str_def_diff', 'td_avg_diff', \n",
    "    'td_avg_acc_diff', 'td_def_diff', 'sub_avg_diff', 'sig_str_ratio', 'td_ratio',\n",
    "    'str_acc_ratio', 'td_acc_ratio', 'win_ratio_diff', 'bmi_diff', 'total_fights_diff',\n",
    "    'offense_score_diff', 'defense_score_diff', 'net_advantage', 'str_vs_def_diff',\n",
    "    'off_def_ratio_diff'\n",
    "]\n",
    "\n",
    "X = df[final_features]\n",
    "y = df['winner_is_red']\n",
    "\n",
    "X_train, X_test, y_train, y_test = train_test_split(X, y, test_size=0.2, random_state=42, stratify=y)\n",
    "\n",
    "# RandomizedSearchCV로 찾은 최적 파라미터를 적용\n",
    "estimators = [\n",
    "    ('rf', RandomForestClassifier(n_estimators=200, max_depth=10, min_samples_leaf=5, random_state=42, n_jobs=-1)),\n",
    "    ('lgb', LGBMClassifier(n_estimators=200, learning_rate=0.05, num_leaves=31, random_state=42, verbose=-1, n_jobs=-1)),\n",
    "    ('xgb', xgb.XGBClassifier(n_estimators=200, max_depth=5, learning_rate=0.05, subsample=0.8, colsample_bytree=0.8, random_state=42, use_label_encoder=False, eval_metric='logloss'))\n",
    "]\n",
    "\n",
    "# 2. BorderlineSMOTE를 적용한 파이프라인 구축\n",
    "stacking_pipeline = ImbPipeline([\n",
    "    ('smote', BorderlineSMOTE(random_state=42)), # 3. BorderlineSMOTE 적용\n",
    "    ('scaler', StandardScaler()),\n",
    "    ('classifier', StackingClassifier(\n",
    "        estimators=estimators,\n",
    "        final_estimator=GradientBoostingClassifier(random_state=42), # final_estimator 변경\n",
    "        cv=5,\n",
    "        n_jobs=-1\n",
    "    ))\n",
    "])"
   ]
  },
  {
   "cell_type": "code",
   "execution_count": 132,
   "metadata": {},
   "outputs": [
    {
     "name": "stdout",
     "output_type": "stream",
     "text": [
      "--- 최적화된 스태킹 모델 학습 시작 ---\n",
      "--- 스태킹 모델 학습 완료 ---\n"
     ]
    }
   ],
   "source": [
    "print('--- 최적화된 스태킹 모델 학습 시작 ---')\n",
    "stacking_pipeline.fit(X_train, y_train)\n",
    "print('--- 스태킹 모델 학습 완료 ---')"
   ]
  },
  {
   "cell_type": "code",
   "execution_count": 133,
   "metadata": {},
   "outputs": [
    {
     "name": "stdout",
     "output_type": "stream",
     "text": [
      "\n",
      "정확도: 0.7198\n",
      "ROC-AUC: 0.7774\n",
      "분류 보고서: \n",
      "               precision    recall  f1-score   support\n",
      "\n",
      "           0       0.61      0.64      0.62       572\n",
      "           1       0.79      0.77      0.78      1009\n",
      "\n",
      "    accuracy                           0.72      1581\n",
      "   macro avg       0.70      0.70      0.70      1581\n",
      "weighted avg       0.72      0.72      0.72      1581\n",
      "\n"
     ]
    },
    {
     "data": {
      "image/png": "[encoded data removed]",
      "text/plain": [
       "<Figure size 640x480 with 2 Axes>"
      ]
     },
     "metadata": {},
     "output_type": "display_data"
    }
   ],
   "source": [
    "# 모델 평가\n",
    "y_pred_proba = stacking_pipeline.predict_proba(X_test)[:, 1]\n",
    "y_pred = (y_pred_proba >= 0.5).astype(int)\n",
    "\n",
    "print(f'\\n정확도: {accuracy_score(y_test, y_pred):.4f}')\n",
    "print(f'ROC-AUC: {roc_auc_score(y_test, y_pred_proba):.4f}')\n",
    "print('분류 보고서:','\\n', classification_report(y_test, y_pred))\n",
    "\n",
    "cm = confusion_matrix(y_test, y_pred)\n",
    "sns.heatmap(cm, annot=True, fmt='d', cmap='Blues')\n",
    "plt.title('Optimized Stacking Model Confusion Matrix')\n",
    "plt.xlabel('Predicted')\n",
    "plt.ylabel('Actual')\n",
    "plt.show()"
   ]
  },
  {
   "cell_type": "markdown",
   "metadata": {},
   "source": [
    "## 6. 임의의 두 선수 간 승률 예측 함수"
   ]
  },
  {
   "cell_type": "code",
   "execution_count": 138,
   "metadata": {},
   "outputs": [],
   "source": [
    "def predict_win_probability(fighter1_name, fighter2_name, fighter_db, model, features_list):\n",
    "    try:\n",
    "        fighter1_stats = fighter_db.loc[fighter1_name].fillna(0)\n",
    "        fighter2_stats = fighter_db.loc[fighter2_name].fillna(0)\n",
    "    except KeyError as e:\n",
    "        return f'선수 데이터를 찾을 수 없습니다: {e.args[0]}'\n",
    "    \n",
    "    # 두 선수의 스탯을 기반으로 모든 파생 특성을 계산\n",
    "    matchup_data = {}\n",
    "    matchup_data['age_diff'] = fighter1_stats['age'] - fighter2_stats['age']\n",
    "    matchup_data['height_diff'] = fighter1_stats['height'] - fighter2_stats['height']\n",
    "    matchup_data['weight_diff'] = fighter1_stats['weight'] - fighter2_stats['weight']\n",
    "    matchup_data['reach_diff'] = fighter1_stats['reach'] - fighter2_stats['reach']\n",
    "    matchup_data['wins_diff'] = fighter1_stats['wins'] - fighter2_stats['wins']\n",
    "    matchup_data['losses_diff'] = fighter1_stats['losses'] - fighter2_stats['losses']\n",
    "    matchup_data['splm_diff'] = fighter1_stats['splm'] - fighter2_stats['splm']\n",
    "    matchup_data['str_acc_diff'] = fighter1_stats['str_acc'] - fighter2_stats['str_acc']\n",
    "    matchup_data['sapm_diff'] = fighter1_stats['sapm'] - fighter2_stats['sapm']\n",
    "    matchup_data['str_def_diff'] = fighter1_stats['str_def'] - fighter2_stats['str_def']\n",
    "    matchup_data['td_avg_diff'] = fighter1_stats['td_avg'] - fighter2_stats['td_avg']\n",
    "    matchup_data['td_avg_acc_diff'] = fighter1_stats['td_avg_acc'] - fighter2_stats['td_avg_acc']\n",
    "    matchup_data['td_def_diff'] = fighter1_stats['td_def'] - fighter2_stats['td_def']\n",
    "    matchup_data['sub_avg_diff'] = fighter1_stats['sub_avg'] - fighter2_stats['sub_avg']\n",
    "\n",
    "    matchup_data['sig_str_ratio'] = fighter1_stats['splm'] / (fighter1_stats['splm'] + fighter2_stats['splm'] + 1e-6)\n",
    "    matchup_data['td_ratio'] = fighter1_stats['td_avg'] / (fighter1_stats['td_avg'] + fighter2_stats['td_avg'] + 1e-6)\n",
    "    matchup_data['str_acc_ratio'] = fighter1_stats['str_acc'] / (fighter1_stats['str_acc'] + fighter2_stats['str_acc'] + 1e-6)\n",
    "    matchup_data['td_acc_ratio'] = fighter1_stats['td_avg_acc'] / (fighter1_stats['td_avg_acc'] + fighter2_stats['td_avg_acc'] + 1e-6)\n",
    "\n",
    "    matchup_data['win_ratio_diff'] = (fighter1_stats['wins'] / (fighter1_stats['wins'] + fighter1_stats['losses'] + 1e-6)) - (fighter2_stats['wins'] / (fighter2_stats['wins'] + fighter2_stats['losses'] + 1e-6))\n",
    "    matchup_data['bmi_diff'] = (fighter1_stats['weight'] / ((fighter1_stats['height'] / 100) ** 2 + 1e-6)) - (fighter2_stats['weight'] / ((fighter2_stats['height'] / 100) ** 2 + 1e-6))\n",
    "    matchup_data['total_fights_diff'] = (fighter1_stats['wins'] + fighter1_stats['losses']) - (fighter2_stats['wins'] + fighter2_stats['losses'])\n",
    "\n",
    "    f1_offense_score = (fighter1_stats['splm'] * fighter1_stats['str_acc']) + (fighter1_stats['td_avg'] * fighter1_stats['td_avg_acc'])\n",
    "    f2_offense_score = (fighter2_stats['splm'] * fighter2_stats['str_acc']) + (fighter2_stats['td_avg'] * fighter2_stats['td_avg_acc'])\n",
    "    matchup_data['offense_score_diff'] = f1_offense_score - f2_offense_score\n",
    "\n",
    "    f1_defense_score = (fighter1_stats['str_def'] + fighter1_stats['td_def']) / 2\n",
    "    f2_defense_score = (fighter2_stats['str_def'] + fighter2_stats['td_def']) / 2\n",
    "    matchup_data['defense_score_diff'] = f1_defense_score - f2_defense_score\n",
    "\n",
    "    matchup_data['net_advantage'] = matchup_data['offense_score_diff'] + matchup_data['defense_score_diff']\n",
    "    matchup_data['str_vs_def_diff'] = (fighter1_stats['str_acc'] * fighter2_stats['str_def']) - (fighter2_stats['str_acc'] * fighter1_stats['str_def'])\n",
    "    matchup_data['off_def_ratio_diff'] = (f1_offense_score / (f1_defense_score + 1e-6)) - (f2_offense_score / (f2_defense_score + 1e-6))\n",
    "\n",
    "    matchup_df = pd.DataFrame([matchup_data])[features_list]\n",
    "    \n",
    "    # 승리 확률 예측\n",
    "    win_proba = model.predict_proba(matchup_df)[0, 1]\n",
    "    \n",
    "    print(f'경기 예측: {fighter1_name} vs {fighter2_name}')\n",
    "    print(f'{fighter1_name}의 승리 확률: {win_proba*100:.2f}%')\n",
    "    print(f'{fighter2_name}의 승리 확률: {(1-win_proba)*100:.2f}%')"
   ]
  },
  {
   "cell_type": "markdown",
   "metadata": {},
   "source": [
    "## 7. 예측 예시"
   ]
  },
  {
   "cell_type": "code",
   "execution_count": 141,
   "metadata": {},
   "outputs": [
    {
     "name": "stdout",
     "output_type": "stream",
     "text": [
      "경기 예측: Dooho Choi vs Chan Sung Jung\n",
      "Dooho Choi의 승리 확률: 88.67%\n",
      "Chan Sung Jung의 승리 확률: 11.33%\n",
      "--------------------------------------------------\n",
      "경기 예측: Kyung Ho Kang vs Dong Hyun Kim\n",
      "Kyung Ho Kang의 승리 확률: 38.47%\n",
      "Dong Hyun Kim의 승리 확률: 61.53%\n"
     ]
    }
   ],
   "source": [
    "# 예시: 'Dooho Choi' vs 'Chan Sung Jung'\n",
    "predict_win_probability('Dooho Choi', 'Chan Sung Jung', fighter_stats_df, best_model, final_features)\n",
    "\n",
    "print('-'*50 + '')\n",
    "\n",
    "# 예시 2: 'Dong Hyun Kim' vs 'Kyung Ho Kang'\n",
    "predict_win_probability('Kyung Ho Kang', 'Dong Hyun Kim', fighter_stats_df, best_model, final_features)"
   ]
  }
 ],
 "metadata": {
  "kernelspec": {
   "display_name": "ml_env",
   "language": "python",
   "name": "python3"
  },
  "language_info": {
   "codemirror_mode": {
    "name": "ipython",
    "version": 3
   },
   "file_extension": ".py",
   "mimetype": "text/x-python",
   "name": "python",
   "nbconvert_exporter": "python",
   "pygments_lexer": "ipython3",
   "version": "3.12.11"
  }
 },
 "nbformat": 4,
 "nbformat_minor": 4
}
